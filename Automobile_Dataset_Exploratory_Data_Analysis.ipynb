{
 "cells": [
  {
   "cell_type": "markdown",
   "id": "9358ce17",
   "metadata": {
    "papermill": {
     "duration": 0.012922,
     "end_time": "2024-01-15T08:29:02.264004",
     "exception": false,
     "start_time": "2024-01-15T08:29:02.251082",
     "status": "completed"
    },
    "tags": []
   },
   "source": [
    "# Automobile Dataset\n",
    "\n",
    "1. This data set consists of three types of entities: (a) the specification of an auto in terms of various characteristics, (b) its assigned insurance risk rating, (c) its normalized losses in use as compared to other cars.\n",
    "\n",
    "2. The second rating corresponds to the degree to which the auto is more risky than its price indicates. Cars are initially assigned a risk factor symbol associated with its price. Then, if it is more risky (or less), this symbol is adjusted by moving it up (or down) the scale. Actuarians call this process \"symboling\". A value of +3 indicates that the auto is risky, -3 that it is probably pretty safe.\n",
    "\n",
    "3. The third factor is the relative average loss payment per insured vehicle year. This value is normalized for all autos within a particular size classification (two-door small, station wagons, sports/speciality, etc…), and represents the average loss per car per year.\n",
    "\n",
    "### Project goal: exploratory data analysis."
   ]
  },
  {
   "cell_type": "markdown",
   "id": "1d6f7c11",
   "metadata": {
    "papermill": {
     "duration": 0.013049,
     "end_time": "2024-01-15T08:29:02.289808",
     "exception": false,
     "start_time": "2024-01-15T08:29:02.276759",
     "status": "completed"
    },
    "tags": []
   },
   "source": [
    "# 1. Download libraries"
   ]
  },
  {
   "cell_type": "code",
   "execution_count": 1,
   "id": "6e48db68",
   "metadata": {
    "execution": {
     "iopub.execute_input": "2024-01-15T08:29:02.317607Z",
     "iopub.status.busy": "2024-01-15T08:29:02.317013Z",
     "iopub.status.idle": "2024-01-15T08:29:03.995647Z",
     "shell.execute_reply": "2024-01-15T08:29:03.994672Z"
    },
    "papermill": {
     "duration": 1.694994,
     "end_time": "2024-01-15T08:29:03.997756",
     "exception": false,
     "start_time": "2024-01-15T08:29:02.302762",
     "status": "completed"
    },
    "tags": []
   },
   "outputs": [],
   "source": [
    "import pandas as pd\n",
    "import numpy as np\n",
    "import matplotlib.pyplot as plt\n",
    "import seaborn as sns\n",
    "%matplotlib inline\n",
    "from scipy import stats"
   ]
  },
  {
   "cell_type": "markdown",
   "id": "b3c4b3c1",
   "metadata": {
    "papermill": {
     "duration": 0.012128,
     "end_time": "2024-01-15T08:29:04.021767",
     "exception": false,
     "start_time": "2024-01-15T08:29:04.009639",
     "status": "completed"
    },
    "tags": []
   },
   "source": [
    "# 2. Import dataset"
   ]
  },
  {
   "cell_type": "code",
   "execution_count": 2,
   "id": "355f9509",
   "metadata": {
    "execution": {
     "iopub.execute_input": "2024-01-15T08:29:04.049255Z",
     "iopub.status.busy": "2024-01-15T08:29:04.048283Z",
     "iopub.status.idle": "2024-01-15T08:29:04.053536Z",
     "shell.execute_reply": "2024-01-15T08:29:04.052098Z"
    },
    "papermill": {
     "duration": 0.021786,
     "end_time": "2024-01-15T08:29:04.056183",
     "exception": false,
     "start_time": "2024-01-15T08:29:04.034397",
     "status": "completed"
    },
    "tags": []
   },
   "outputs": [],
   "source": [
    "url = '/kaggle/input/automobile-dataset-cleaned/Automobile_dataset_cleaned.csv'"
   ]
  },
  {
   "cell_type": "code",
   "execution_count": 3,
   "id": "7cc5ace8",
   "metadata": {
    "execution": {
     "iopub.execute_input": "2024-01-15T08:29:04.082492Z",
     "iopub.status.busy": "2024-01-15T08:29:04.082160Z",
     "iopub.status.idle": "2024-01-15T08:29:04.103351Z",
     "shell.execute_reply": "2024-01-15T08:29:04.102575Z"
    },
    "papermill": {
     "duration": 0.036883,
     "end_time": "2024-01-15T08:29:04.105628",
     "exception": false,
     "start_time": "2024-01-15T08:29:04.068745",
     "status": "completed"
    },
    "tags": []
   },
   "outputs": [],
   "source": [
    "df = pd.read_csv(url)"
   ]
  },
  {
   "cell_type": "markdown",
   "id": "80973a37",
   "metadata": {
    "papermill": {
     "duration": 0.012271,
     "end_time": "2024-01-15T08:29:04.130432",
     "exception": false,
     "start_time": "2024-01-15T08:29:04.118161",
     "status": "completed"
    },
    "tags": []
   },
   "source": [
    "# 3. Analyzing Individual Feature Patterns Using Visualization"
   ]
  },
  {
   "cell_type": "code",
   "execution_count": 4,
   "id": "8569db25",
   "metadata": {
    "execution": {
     "iopub.execute_input": "2024-01-15T08:29:04.157163Z",
     "iopub.status.busy": "2024-01-15T08:29:04.156085Z",
     "iopub.status.idle": "2024-01-15T08:29:04.198776Z",
     "shell.execute_reply": "2024-01-15T08:29:04.197429Z"
    },
    "papermill": {
     "duration": 0.058779,
     "end_time": "2024-01-15T08:29:04.201125",
     "exception": false,
     "start_time": "2024-01-15T08:29:04.142346",
     "status": "completed"
    },
    "tags": []
   },
   "outputs": [
    {
     "data": {
      "text/html": [
       "<div>\n",
       "<style scoped>\n",
       "    .dataframe tbody tr th:only-of-type {\n",
       "        vertical-align: middle;\n",
       "    }\n",
       "\n",
       "    .dataframe tbody tr th {\n",
       "        vertical-align: top;\n",
       "    }\n",
       "\n",
       "    .dataframe thead th {\n",
       "        text-align: right;\n",
       "    }\n",
       "</style>\n",
       "<table border=\"1\" class=\"dataframe\">\n",
       "  <thead>\n",
       "    <tr style=\"text-align: right;\">\n",
       "      <th></th>\n",
       "      <th>symboling</th>\n",
       "      <th>normalized-losses</th>\n",
       "      <th>make</th>\n",
       "      <th>aspiration</th>\n",
       "      <th>num-of-doors</th>\n",
       "      <th>body-style</th>\n",
       "      <th>drive-wheels</th>\n",
       "      <th>engine-location</th>\n",
       "      <th>wheel-base</th>\n",
       "      <th>length</th>\n",
       "      <th>...</th>\n",
       "      <th>compression-ratio</th>\n",
       "      <th>horsepower</th>\n",
       "      <th>peak-rpm</th>\n",
       "      <th>city-mpg</th>\n",
       "      <th>highway-mpg</th>\n",
       "      <th>price</th>\n",
       "      <th>city-L/100km</th>\n",
       "      <th>horsepower-binned</th>\n",
       "      <th>diesel</th>\n",
       "      <th>gas</th>\n",
       "    </tr>\n",
       "  </thead>\n",
       "  <tbody>\n",
       "    <tr>\n",
       "      <th>0</th>\n",
       "      <td>3</td>\n",
       "      <td>122</td>\n",
       "      <td>alfa-romero</td>\n",
       "      <td>std</td>\n",
       "      <td>two</td>\n",
       "      <td>convertible</td>\n",
       "      <td>rwd</td>\n",
       "      <td>front</td>\n",
       "      <td>88.6</td>\n",
       "      <td>0.811148</td>\n",
       "      <td>...</td>\n",
       "      <td>9.0</td>\n",
       "      <td>111.0</td>\n",
       "      <td>5000.0</td>\n",
       "      <td>21</td>\n",
       "      <td>27</td>\n",
       "      <td>13495.0</td>\n",
       "      <td>11.190476</td>\n",
       "      <td>Medium</td>\n",
       "      <td>0</td>\n",
       "      <td>1</td>\n",
       "    </tr>\n",
       "    <tr>\n",
       "      <th>1</th>\n",
       "      <td>3</td>\n",
       "      <td>122</td>\n",
       "      <td>alfa-romero</td>\n",
       "      <td>std</td>\n",
       "      <td>two</td>\n",
       "      <td>convertible</td>\n",
       "      <td>rwd</td>\n",
       "      <td>front</td>\n",
       "      <td>88.6</td>\n",
       "      <td>0.811148</td>\n",
       "      <td>...</td>\n",
       "      <td>9.0</td>\n",
       "      <td>111.0</td>\n",
       "      <td>5000.0</td>\n",
       "      <td>21</td>\n",
       "      <td>27</td>\n",
       "      <td>16500.0</td>\n",
       "      <td>11.190476</td>\n",
       "      <td>Medium</td>\n",
       "      <td>0</td>\n",
       "      <td>1</td>\n",
       "    </tr>\n",
       "    <tr>\n",
       "      <th>2</th>\n",
       "      <td>1</td>\n",
       "      <td>122</td>\n",
       "      <td>alfa-romero</td>\n",
       "      <td>std</td>\n",
       "      <td>two</td>\n",
       "      <td>hatchback</td>\n",
       "      <td>rwd</td>\n",
       "      <td>front</td>\n",
       "      <td>94.5</td>\n",
       "      <td>0.822681</td>\n",
       "      <td>...</td>\n",
       "      <td>9.0</td>\n",
       "      <td>154.0</td>\n",
       "      <td>5000.0</td>\n",
       "      <td>19</td>\n",
       "      <td>26</td>\n",
       "      <td>16500.0</td>\n",
       "      <td>12.368421</td>\n",
       "      <td>Medium</td>\n",
       "      <td>0</td>\n",
       "      <td>1</td>\n",
       "    </tr>\n",
       "    <tr>\n",
       "      <th>3</th>\n",
       "      <td>2</td>\n",
       "      <td>164</td>\n",
       "      <td>audi</td>\n",
       "      <td>std</td>\n",
       "      <td>four</td>\n",
       "      <td>sedan</td>\n",
       "      <td>fwd</td>\n",
       "      <td>front</td>\n",
       "      <td>99.8</td>\n",
       "      <td>0.848630</td>\n",
       "      <td>...</td>\n",
       "      <td>10.0</td>\n",
       "      <td>102.0</td>\n",
       "      <td>5500.0</td>\n",
       "      <td>24</td>\n",
       "      <td>30</td>\n",
       "      <td>13950.0</td>\n",
       "      <td>9.791667</td>\n",
       "      <td>Medium</td>\n",
       "      <td>0</td>\n",
       "      <td>1</td>\n",
       "    </tr>\n",
       "    <tr>\n",
       "      <th>4</th>\n",
       "      <td>2</td>\n",
       "      <td>164</td>\n",
       "      <td>audi</td>\n",
       "      <td>std</td>\n",
       "      <td>four</td>\n",
       "      <td>sedan</td>\n",
       "      <td>4wd</td>\n",
       "      <td>front</td>\n",
       "      <td>99.4</td>\n",
       "      <td>0.848630</td>\n",
       "      <td>...</td>\n",
       "      <td>8.0</td>\n",
       "      <td>115.0</td>\n",
       "      <td>5500.0</td>\n",
       "      <td>18</td>\n",
       "      <td>22</td>\n",
       "      <td>17450.0</td>\n",
       "      <td>13.055556</td>\n",
       "      <td>Medium</td>\n",
       "      <td>0</td>\n",
       "      <td>1</td>\n",
       "    </tr>\n",
       "  </tbody>\n",
       "</table>\n",
       "<p>5 rows × 29 columns</p>\n",
       "</div>"
      ],
      "text/plain": [
       "   symboling  normalized-losses         make aspiration num-of-doors  \\\n",
       "0          3                122  alfa-romero        std          two   \n",
       "1          3                122  alfa-romero        std          two   \n",
       "2          1                122  alfa-romero        std          two   \n",
       "3          2                164         audi        std         four   \n",
       "4          2                164         audi        std         four   \n",
       "\n",
       "    body-style drive-wheels engine-location  wheel-base    length  ...  \\\n",
       "0  convertible          rwd           front        88.6  0.811148  ...   \n",
       "1  convertible          rwd           front        88.6  0.811148  ...   \n",
       "2    hatchback          rwd           front        94.5  0.822681  ...   \n",
       "3        sedan          fwd           front        99.8  0.848630  ...   \n",
       "4        sedan          4wd           front        99.4  0.848630  ...   \n",
       "\n",
       "   compression-ratio  horsepower  peak-rpm city-mpg highway-mpg    price  \\\n",
       "0                9.0       111.0    5000.0       21          27  13495.0   \n",
       "1                9.0       111.0    5000.0       21          27  16500.0   \n",
       "2                9.0       154.0    5000.0       19          26  16500.0   \n",
       "3               10.0       102.0    5500.0       24          30  13950.0   \n",
       "4                8.0       115.0    5500.0       18          22  17450.0   \n",
       "\n",
       "  city-L/100km  horsepower-binned  diesel  gas  \n",
       "0    11.190476             Medium       0    1  \n",
       "1    11.190476             Medium       0    1  \n",
       "2    12.368421             Medium       0    1  \n",
       "3     9.791667             Medium       0    1  \n",
       "4    13.055556             Medium       0    1  \n",
       "\n",
       "[5 rows x 29 columns]"
      ]
     },
     "execution_count": 4,
     "metadata": {},
     "output_type": "execute_result"
    }
   ],
   "source": [
    "# Observe the first rows of the dataset:\n",
    "\n",
    "df.head()"
   ]
  },
  {
   "cell_type": "code",
   "execution_count": 5,
   "id": "8ab1d2de",
   "metadata": {
    "execution": {
     "iopub.execute_input": "2024-01-15T08:29:04.228871Z",
     "iopub.status.busy": "2024-01-15T08:29:04.228466Z",
     "iopub.status.idle": "2024-01-15T08:29:04.235156Z",
     "shell.execute_reply": "2024-01-15T08:29:04.234121Z"
    },
    "papermill": {
     "duration": 0.023524,
     "end_time": "2024-01-15T08:29:04.237676",
     "exception": false,
     "start_time": "2024-01-15T08:29:04.214152",
     "status": "completed"
    },
    "tags": []
   },
   "outputs": [
    {
     "name": "stdout",
     "output_type": "stream",
     "text": [
      "symboling              int64\n",
      "normalized-losses      int64\n",
      "make                  object\n",
      "aspiration            object\n",
      "num-of-doors          object\n",
      "body-style            object\n",
      "drive-wheels          object\n",
      "engine-location       object\n",
      "wheel-base           float64\n",
      "length               float64\n",
      "width                float64\n",
      "height               float64\n",
      "curb-weight            int64\n",
      "engine-type           object\n",
      "num-of-cylinders      object\n",
      "engine-size            int64\n",
      "fuel-system           object\n",
      "bore                 float64\n",
      "stroke               float64\n",
      "compression-ratio    float64\n",
      "horsepower           float64\n",
      "peak-rpm             float64\n",
      "city-mpg               int64\n",
      "highway-mpg            int64\n",
      "price                float64\n",
      "city-L/100km         float64\n",
      "horsepower-binned     object\n",
      "diesel                 int64\n",
      "gas                    int64\n",
      "dtype: object\n"
     ]
    }
   ],
   "source": [
    "# List the data types for each column:\n",
    "\n",
    "print(df.dtypes)"
   ]
  },
  {
   "cell_type": "code",
   "execution_count": 6,
   "id": "20fc8804",
   "metadata": {
    "execution": {
     "iopub.execute_input": "2024-01-15T08:29:04.266901Z",
     "iopub.status.busy": "2024-01-15T08:29:04.266525Z",
     "iopub.status.idle": "2024-01-15T08:29:04.678790Z",
     "shell.execute_reply": "2024-01-15T08:29:04.677415Z"
    },
    "papermill": {
     "duration": 0.430418,
     "end_time": "2024-01-15T08:29:04.682075",
     "exception": false,
     "start_time": "2024-01-15T08:29:04.251657",
     "status": "completed"
    },
    "tags": []
   },
   "outputs": [
    {
     "data": {
      "text/plain": [
       "(0.0, 53201.67063482169)"
      ]
     },
     "execution_count": 6,
     "metadata": {},
     "output_type": "execute_result"
    },
    {
     "data": {
      "image/png": "[encoded data removed]",
      "text/plain": [
       "<Figure size 640x480 with 1 Axes>"
      ]
     },
     "metadata": {},
     "output_type": "display_data"
    }
   ],
   "source": [
    "# Find the scatterplot of \"engine-size\" and \"price\":\n",
    "\n",
    "sns.regplot(x=\"engine-size\", y=\"price\", data=df)\n",
    "plt.ylim(0,)"
   ]
  },
  {
   "cell_type": "markdown",
   "id": "bb5be147",
   "metadata": {
    "papermill": {
     "duration": 0.013892,
     "end_time": "2024-01-15T08:29:04.770712",
     "exception": false,
     "start_time": "2024-01-15T08:29:04.756820",
     "status": "completed"
    },
    "tags": []
   },
   "source": [
    "### Conclusion:\n",
    "As the engine-size goes up, the price goes up: this indicates a positive direct correlation between these two variables. Engine size seems like a pretty good predictor of price since the regression line is almost a perfect diagonal line."
   ]
  },
  {
   "cell_type": "code",
   "execution_count": 7,
   "id": "7386a80b",
   "metadata": {
    "execution": {
     "iopub.execute_input": "2024-01-15T08:29:04.799333Z",
     "iopub.status.busy": "2024-01-15T08:29:04.798842Z",
     "iopub.status.idle": "2024-01-15T08:29:04.811951Z",
     "shell.execute_reply": "2024-01-15T08:29:04.810471Z"
    },
    "papermill": {
     "duration": 0.029772,
     "end_time": "2024-01-15T08:29:04.814027",
     "exception": false,
     "start_time": "2024-01-15T08:29:04.784255",
     "status": "completed"
    },
    "tags": []
   },
   "outputs": [
    {
     "data": {
      "text/html": [
       "<div>\n",
       "<style scoped>\n",
       "    .dataframe tbody tr th:only-of-type {\n",
       "        vertical-align: middle;\n",
       "    }\n",
       "\n",
       "    .dataframe tbody tr th {\n",
       "        vertical-align: top;\n",
       "    }\n",
       "\n",
       "    .dataframe thead th {\n",
       "        text-align: right;\n",
       "    }\n",
       "</style>\n",
       "<table border=\"1\" class=\"dataframe\">\n",
       "  <thead>\n",
       "    <tr style=\"text-align: right;\">\n",
       "      <th></th>\n",
       "      <th>engine-size</th>\n",
       "      <th>price</th>\n",
       "    </tr>\n",
       "  </thead>\n",
       "  <tbody>\n",
       "    <tr>\n",
       "      <th>engine-size</th>\n",
       "      <td>1.000000</td>\n",
       "      <td>0.872335</td>\n",
       "    </tr>\n",
       "    <tr>\n",
       "      <th>price</th>\n",
       "      <td>0.872335</td>\n",
       "      <td>1.000000</td>\n",
       "    </tr>\n",
       "  </tbody>\n",
       "</table>\n",
       "</div>"
      ],
      "text/plain": [
       "             engine-size     price\n",
       "engine-size     1.000000  0.872335\n",
       "price           0.872335  1.000000"
      ]
     },
     "execution_count": 7,
     "metadata": {},
     "output_type": "execute_result"
    }
   ],
   "source": [
    "# Examine the correlation between 'engine-size' and 'price':\n",
    "\n",
    "df[[\"engine-size\", \"price\"]].corr()"
   ]
  },
  {
   "cell_type": "code",
   "execution_count": 8,
   "id": "30baa204",
   "metadata": {
    "execution": {
     "iopub.execute_input": "2024-01-15T08:29:04.844227Z",
     "iopub.status.busy": "2024-01-15T08:29:04.843872Z",
     "iopub.status.idle": "2024-01-15T08:29:05.150956Z",
     "shell.execute_reply": "2024-01-15T08:29:05.149596Z"
    },
    "papermill": {
     "duration": 0.325167,
     "end_time": "2024-01-15T08:29:05.153640",
     "exception": false,
     "start_time": "2024-01-15T08:29:04.828473",
     "status": "completed"
    },
    "tags": []
   },
   "outputs": [
    {
     "data": {
      "text/plain": [
       "<Axes: xlabel='highway-mpg', ylabel='price'>"
      ]
     },
     "execution_count": 8,
     "metadata": {},
     "output_type": "execute_result"
    },
    {
     "data": {
      "image/png": "[encoded data removed]",
      "text/plain": [
       "<Figure size 640x480 with 1 Axes>"
      ]
     },
     "metadata": {},
     "output_type": "display_data"
    }
   ],
   "source": [
    "# Find the scatterplot of \"highway-mpg\" and \"price\":\n",
    "\n",
    "sns.regplot(x=\"highway-mpg\", y=\"price\", data=df)"
   ]
  },
  {
   "cell_type": "markdown",
   "id": "0659d7cc",
   "metadata": {
    "papermill": {
     "duration": 0.014349,
     "end_time": "2024-01-15T08:29:05.183460",
     "exception": false,
     "start_time": "2024-01-15T08:29:05.169111",
     "status": "completed"
    },
    "tags": []
   },
   "source": [
    "### Conclusion:\n",
    "As highway-mpg goes up, the price goes down: this indicates an inverse/negative relationship between these two variables. Highway mpg could potentially be a predictor of price."
   ]
  },
  {
   "cell_type": "code",
   "execution_count": 9,
   "id": "2d49f3fc",
   "metadata": {
    "execution": {
     "iopub.execute_input": "2024-01-15T08:29:05.214050Z",
     "iopub.status.busy": "2024-01-15T08:29:05.213721Z",
     "iopub.status.idle": "2024-01-15T08:29:05.225103Z",
     "shell.execute_reply": "2024-01-15T08:29:05.223909Z"
    },
    "papermill": {
     "duration": 0.029139,
     "end_time": "2024-01-15T08:29:05.227185",
     "exception": false,
     "start_time": "2024-01-15T08:29:05.198046",
     "status": "completed"
    },
    "tags": []
   },
   "outputs": [
    {
     "data": {
      "text/html": [
       "<div>\n",
       "<style scoped>\n",
       "    .dataframe tbody tr th:only-of-type {\n",
       "        vertical-align: middle;\n",
       "    }\n",
       "\n",
       "    .dataframe tbody tr th {\n",
       "        vertical-align: top;\n",
       "    }\n",
       "\n",
       "    .dataframe thead th {\n",
       "        text-align: right;\n",
       "    }\n",
       "</style>\n",
       "<table border=\"1\" class=\"dataframe\">\n",
       "  <thead>\n",
       "    <tr style=\"text-align: right;\">\n",
       "      <th></th>\n",
       "      <th>highway-mpg</th>\n",
       "      <th>price</th>\n",
       "    </tr>\n",
       "  </thead>\n",
       "  <tbody>\n",
       "    <tr>\n",
       "      <th>highway-mpg</th>\n",
       "      <td>1.000000</td>\n",
       "      <td>-0.704692</td>\n",
       "    </tr>\n",
       "    <tr>\n",
       "      <th>price</th>\n",
       "      <td>-0.704692</td>\n",
       "      <td>1.000000</td>\n",
       "    </tr>\n",
       "  </tbody>\n",
       "</table>\n",
       "</div>"
      ],
      "text/plain": [
       "             highway-mpg     price\n",
       "highway-mpg     1.000000 -0.704692\n",
       "price          -0.704692  1.000000"
      ]
     },
     "execution_count": 9,
     "metadata": {},
     "output_type": "execute_result"
    }
   ],
   "source": [
    "# Examine the correlation between 'highway-mpg' and 'price':\n",
    "    \n",
    "df[['highway-mpg', 'price']].corr()"
   ]
  },
  {
   "cell_type": "code",
   "execution_count": 10,
   "id": "4d7f6ed8",
   "metadata": {
    "execution": {
     "iopub.execute_input": "2024-01-15T08:29:05.258242Z",
     "iopub.status.busy": "2024-01-15T08:29:05.257302Z",
     "iopub.status.idle": "2024-01-15T08:29:05.556530Z",
     "shell.execute_reply": "2024-01-15T08:29:05.555722Z"
    },
    "papermill": {
     "duration": 0.316447,
     "end_time": "2024-01-15T08:29:05.558309",
     "exception": false,
     "start_time": "2024-01-15T08:29:05.241862",
     "status": "completed"
    },
    "tags": []
   },
   "outputs": [
    {
     "data": {
      "text/plain": [
       "<Axes: xlabel='peak-rpm', ylabel='price'>"
      ]
     },
     "execution_count": 10,
     "metadata": {},
     "output_type": "execute_result"
    },
    {
     "data": {
      "image/png": "[encoded data removed]",
      "text/plain": [
       "<Figure size 640x480 with 1 Axes>"
      ]
     },
     "metadata": {},
     "output_type": "display_data"
    }
   ],
   "source": [
    "# Find the scatterplot of \"peak-rpm\" and \"price\":\n",
    "\n",
    "sns.regplot(x=\"peak-rpm\", y=\"price\", data=df)"
   ]
  },
  {
   "cell_type": "markdown",
   "id": "0221a960",
   "metadata": {
    "papermill": {
     "duration": 0.013928,
     "end_time": "2024-01-15T08:29:05.586879",
     "exception": false,
     "start_time": "2024-01-15T08:29:05.572951",
     "status": "completed"
    },
    "tags": []
   },
   "source": [
    "### Conclusion:\n",
    "Peak rpm does not seem like a good predictor of the price at all since the regression line is close to horizontal. Also, the data points are very scattered and far from the fitted line, showing lots of variability. Therefore, it's not a reliable variable.  "
   ]
  },
  {
   "cell_type": "code",
   "execution_count": 11,
   "id": "4388b31f",
   "metadata": {
    "execution": {
     "iopub.execute_input": "2024-01-15T08:29:05.616408Z",
     "iopub.status.busy": "2024-01-15T08:29:05.616074Z",
     "iopub.status.idle": "2024-01-15T08:29:05.625636Z",
     "shell.execute_reply": "2024-01-15T08:29:05.624816Z"
    },
    "papermill": {
     "duration": 0.027634,
     "end_time": "2024-01-15T08:29:05.628503",
     "exception": false,
     "start_time": "2024-01-15T08:29:05.600869",
     "status": "completed"
    },
    "tags": []
   },
   "outputs": [
    {
     "data": {
      "text/html": [
       "<div>\n",
       "<style scoped>\n",
       "    .dataframe tbody tr th:only-of-type {\n",
       "        vertical-align: middle;\n",
       "    }\n",
       "\n",
       "    .dataframe tbody tr th {\n",
       "        vertical-align: top;\n",
       "    }\n",
       "\n",
       "    .dataframe thead th {\n",
       "        text-align: right;\n",
       "    }\n",
       "</style>\n",
       "<table border=\"1\" class=\"dataframe\">\n",
       "  <thead>\n",
       "    <tr style=\"text-align: right;\">\n",
       "      <th></th>\n",
       "      <th>peak-rpm</th>\n",
       "      <th>price</th>\n",
       "    </tr>\n",
       "  </thead>\n",
       "  <tbody>\n",
       "    <tr>\n",
       "      <th>peak-rpm</th>\n",
       "      <td>1.000000</td>\n",
       "      <td>-0.101616</td>\n",
       "    </tr>\n",
       "    <tr>\n",
       "      <th>price</th>\n",
       "      <td>-0.101616</td>\n",
       "      <td>1.000000</td>\n",
       "    </tr>\n",
       "  </tbody>\n",
       "</table>\n",
       "</div>"
      ],
      "text/plain": [
       "          peak-rpm     price\n",
       "peak-rpm  1.000000 -0.101616\n",
       "price    -0.101616  1.000000"
      ]
     },
     "execution_count": 11,
     "metadata": {},
     "output_type": "execute_result"
    }
   ],
   "source": [
    "# Examine the correlation between 'peak-rpm' and 'price':\n",
    "\n",
    "df[['peak-rpm','price']].corr()"
   ]
  },
  {
   "cell_type": "code",
   "execution_count": 12,
   "id": "2b6f4d86",
   "metadata": {
    "execution": {
     "iopub.execute_input": "2024-01-15T08:29:05.660413Z",
     "iopub.status.busy": "2024-01-15T08:29:05.660063Z",
     "iopub.status.idle": "2024-01-15T08:29:05.969365Z",
     "shell.execute_reply": "2024-01-15T08:29:05.968174Z"
    },
    "papermill": {
     "duration": 0.328072,
     "end_time": "2024-01-15T08:29:05.971845",
     "exception": false,
     "start_time": "2024-01-15T08:29:05.643773",
     "status": "completed"
    },
    "tags": []
   },
   "outputs": [
    {
     "data": {
      "text/plain": [
       "<Axes: xlabel='stroke', ylabel='price'>"
      ]
     },
     "execution_count": 12,
     "metadata": {},
     "output_type": "execute_result"
    },
    {
     "data": {
      "image/png": "[encoded data removed]",
      "text/plain": [
       "<Figure size 640x480 with 1 Axes>"
      ]
     },
     "metadata": {},
     "output_type": "display_data"
    }
   ],
   "source": [
    "# Find the scatterplot of \"stroke\" and \"price\":\n",
    "\n",
    "sns.regplot(x=\"stroke\", y=\"price\", data=df)"
   ]
  },
  {
   "cell_type": "markdown",
   "id": "fb07c1fe",
   "metadata": {
    "papermill": {
     "duration": 0.015411,
     "end_time": "2024-01-15T08:29:06.003028",
     "exception": false,
     "start_time": "2024-01-15T08:29:05.987617",
     "status": "completed"
    },
    "tags": []
   },
   "source": [
    "### Conclusion:\n",
    "There is a weak correlation between the variable 'stroke' and 'price.' as such regression will not work well. "
   ]
  },
  {
   "cell_type": "code",
   "execution_count": 13,
   "id": "11f91bdf",
   "metadata": {
    "execution": {
     "iopub.execute_input": "2024-01-15T08:29:06.036370Z",
     "iopub.status.busy": "2024-01-15T08:29:06.035993Z",
     "iopub.status.idle": "2024-01-15T08:29:06.047304Z",
     "shell.execute_reply": "2024-01-15T08:29:06.046111Z"
    },
    "papermill": {
     "duration": 0.030916,
     "end_time": "2024-01-15T08:29:06.049752",
     "exception": false,
     "start_time": "2024-01-15T08:29:06.018836",
     "status": "completed"
    },
    "tags": []
   },
   "outputs": [
    {
     "data": {
      "text/html": [
       "<div>\n",
       "<style scoped>\n",
       "    .dataframe tbody tr th:only-of-type {\n",
       "        vertical-align: middle;\n",
       "    }\n",
       "\n",
       "    .dataframe tbody tr th {\n",
       "        vertical-align: top;\n",
       "    }\n",
       "\n",
       "    .dataframe thead th {\n",
       "        text-align: right;\n",
       "    }\n",
       "</style>\n",
       "<table border=\"1\" class=\"dataframe\">\n",
       "  <thead>\n",
       "    <tr style=\"text-align: right;\">\n",
       "      <th></th>\n",
       "      <th>stroke</th>\n",
       "      <th>price</th>\n",
       "    </tr>\n",
       "  </thead>\n",
       "  <tbody>\n",
       "    <tr>\n",
       "      <th>stroke</th>\n",
       "      <td>1.00000</td>\n",
       "      <td>0.08231</td>\n",
       "    </tr>\n",
       "    <tr>\n",
       "      <th>price</th>\n",
       "      <td>0.08231</td>\n",
       "      <td>1.00000</td>\n",
       "    </tr>\n",
       "  </tbody>\n",
       "</table>\n",
       "</div>"
      ],
      "text/plain": [
       "         stroke    price\n",
       "stroke  1.00000  0.08231\n",
       "price   0.08231  1.00000"
      ]
     },
     "execution_count": 13,
     "metadata": {},
     "output_type": "execute_result"
    }
   ],
   "source": [
    "# Find the correlation between \"stroke\" and \"price\":\n",
    "\n",
    "df[[\"stroke\",\"price\"]].corr()"
   ]
  },
  {
   "cell_type": "code",
   "execution_count": 14,
   "id": "8a057547",
   "metadata": {
    "execution": {
     "iopub.execute_input": "2024-01-15T08:29:06.083799Z",
     "iopub.status.busy": "2024-01-15T08:29:06.082947Z",
     "iopub.status.idle": "2024-01-15T08:29:06.312477Z",
     "shell.execute_reply": "2024-01-15T08:29:06.311638Z"
    },
    "papermill": {
     "duration": 0.24881,
     "end_time": "2024-01-15T08:29:06.314351",
     "exception": false,
     "start_time": "2024-01-15T08:29:06.065541",
     "status": "completed"
    },
    "tags": []
   },
   "outputs": [
    {
     "data": {
      "text/plain": [
       "<Axes: xlabel='body-style', ylabel='price'>"
      ]
     },
     "execution_count": 14,
     "metadata": {},
     "output_type": "execute_result"
    },
    {
     "data": {
      "image/png": "[encoded data removed]",
      "text/plain": [
       "<Figure size 640x480 with 1 Axes>"
      ]
     },
     "metadata": {},
     "output_type": "display_data"
    }
   ],
   "source": [
    "# Look at the relationship between \"body-style\" and \"price\":\n",
    "\n",
    "sns.boxplot(x=\"body-style\", y=\"price\", data=df)"
   ]
  },
  {
   "cell_type": "markdown",
   "id": "a6635c87",
   "metadata": {
    "papermill": {
     "duration": 0.015564,
     "end_time": "2024-01-15T08:29:06.345729",
     "exception": false,
     "start_time": "2024-01-15T08:29:06.330165",
     "status": "completed"
    },
    "tags": []
   },
   "source": [
    "### Conclusion:\n",
    "We see that the distributions of price between the different body-style categories have a significant overlap, so body-style would not be a good predictor of price."
   ]
  },
  {
   "cell_type": "code",
   "execution_count": 15,
   "id": "8fa5aa51",
   "metadata": {
    "execution": {
     "iopub.execute_input": "2024-01-15T08:29:06.380216Z",
     "iopub.status.busy": "2024-01-15T08:29:06.378890Z",
     "iopub.status.idle": "2024-01-15T08:29:06.563105Z",
     "shell.execute_reply": "2024-01-15T08:29:06.562175Z"
    },
    "papermill": {
     "duration": 0.203466,
     "end_time": "2024-01-15T08:29:06.565256",
     "exception": false,
     "start_time": "2024-01-15T08:29:06.361790",
     "status": "completed"
    },
    "tags": []
   },
   "outputs": [
    {
     "data": {
      "text/plain": [
       "<Axes: xlabel='engine-location', ylabel='price'>"
      ]
     },
     "execution_count": 15,
     "metadata": {},
     "output_type": "execute_result"
    },
    {
     "data": {
      "image/png": "[encoded data removed]",
      "text/plain": [
       "<Figure size 640x480 with 1 Axes>"
      ]
     },
     "metadata": {},
     "output_type": "display_data"
    }
   ],
   "source": [
    "# Look at the relationship between \"engine-location\" and \"price\":\n",
    "\n",
    "sns.boxplot(x=\"engine-location\", y=\"price\", data=df)"
   ]
  },
  {
   "cell_type": "markdown",
   "id": "39f7fb3f",
   "metadata": {
    "papermill": {
     "duration": 0.016271,
     "end_time": "2024-01-15T08:29:06.598306",
     "exception": false,
     "start_time": "2024-01-15T08:29:06.582035",
     "status": "completed"
    },
    "tags": []
   },
   "source": [
    "### Conclusion:\n",
    "Here we see that the distribution of price between these two engine-location categories, front and rear, are distinct enough to take engine-location as a potential good predictor of price."
   ]
  },
  {
   "cell_type": "code",
   "execution_count": 16,
   "id": "8084a0d7",
   "metadata": {
    "execution": {
     "iopub.execute_input": "2024-01-15T08:29:06.633290Z",
     "iopub.status.busy": "2024-01-15T08:29:06.632982Z",
     "iopub.status.idle": "2024-01-15T08:29:06.834668Z",
     "shell.execute_reply": "2024-01-15T08:29:06.833717Z"
    },
    "papermill": {
     "duration": 0.22186,
     "end_time": "2024-01-15T08:29:06.836838",
     "exception": false,
     "start_time": "2024-01-15T08:29:06.614978",
     "status": "completed"
    },
    "tags": []
   },
   "outputs": [
    {
     "data": {
      "text/plain": [
       "<Axes: xlabel='drive-wheels', ylabel='price'>"
      ]
     },
     "execution_count": 16,
     "metadata": {},
     "output_type": "execute_result"
    },
    {
     "data": {
      "image/png": "[encoded data removed]",
      "text/plain": [
       "<Figure size 640x480 with 1 Axes>"
      ]
     },
     "metadata": {},
     "output_type": "display_data"
    }
   ],
   "source": [
    "# Look at the relationship between \"drive-wheels\" and \"price\":\n",
    "\n",
    "sns.boxplot(x=\"drive-wheels\", y=\"price\", data=df)"
   ]
  },
  {
   "cell_type": "markdown",
   "id": "dedf1281",
   "metadata": {
    "papermill": {
     "duration": 0.017323,
     "end_time": "2024-01-15T08:29:06.871165",
     "exception": false,
     "start_time": "2024-01-15T08:29:06.853842",
     "status": "completed"
    },
    "tags": []
   },
   "source": [
    "### Conclusion:\n",
    "Here we see that the distribution of price between the different drive-wheels categories differs. As such, drive-wheels could potentially be a predictor of price."
   ]
  },
  {
   "cell_type": "markdown",
   "id": "010743fe",
   "metadata": {
    "papermill": {
     "duration": 0.016589,
     "end_time": "2024-01-15T08:29:06.904621",
     "exception": false,
     "start_time": "2024-01-15T08:29:06.888032",
     "status": "completed"
    },
    "tags": []
   },
   "source": [
    "# 4. Descriptive Statistical Analysis"
   ]
  },
  {
   "cell_type": "code",
   "execution_count": 17,
   "id": "8a35f6a7",
   "metadata": {
    "execution": {
     "iopub.execute_input": "2024-01-15T08:29:06.941256Z",
     "iopub.status.busy": "2024-01-15T08:29:06.939686Z",
     "iopub.status.idle": "2024-01-15T08:29:06.993067Z",
     "shell.execute_reply": "2024-01-15T08:29:06.992150Z"
    },
    "papermill": {
     "duration": 0.07345,
     "end_time": "2024-01-15T08:29:06.994779",
     "exception": false,
     "start_time": "2024-01-15T08:29:06.921329",
     "status": "completed"
    },
    "tags": []
   },
   "outputs": [
    {
     "data": {
      "text/html": [
       "<div>\n",
       "<style scoped>\n",
       "    .dataframe tbody tr th:only-of-type {\n",
       "        vertical-align: middle;\n",
       "    }\n",
       "\n",
       "    .dataframe tbody tr th {\n",
       "        vertical-align: top;\n",
       "    }\n",
       "\n",
       "    .dataframe thead th {\n",
       "        text-align: right;\n",
       "    }\n",
       "</style>\n",
       "<table border=\"1\" class=\"dataframe\">\n",
       "  <thead>\n",
       "    <tr style=\"text-align: right;\">\n",
       "      <th></th>\n",
       "      <th>symboling</th>\n",
       "      <th>normalized-losses</th>\n",
       "      <th>wheel-base</th>\n",
       "      <th>length</th>\n",
       "      <th>width</th>\n",
       "      <th>height</th>\n",
       "      <th>curb-weight</th>\n",
       "      <th>engine-size</th>\n",
       "      <th>bore</th>\n",
       "      <th>stroke</th>\n",
       "      <th>compression-ratio</th>\n",
       "      <th>horsepower</th>\n",
       "      <th>peak-rpm</th>\n",
       "      <th>city-mpg</th>\n",
       "      <th>highway-mpg</th>\n",
       "      <th>price</th>\n",
       "      <th>city-L/100km</th>\n",
       "      <th>diesel</th>\n",
       "      <th>gas</th>\n",
       "    </tr>\n",
       "  </thead>\n",
       "  <tbody>\n",
       "    <tr>\n",
       "      <th>count</th>\n",
       "      <td>201.000000</td>\n",
       "      <td>201.00000</td>\n",
       "      <td>201.000000</td>\n",
       "      <td>201.000000</td>\n",
       "      <td>201.000000</td>\n",
       "      <td>201.000000</td>\n",
       "      <td>201.000000</td>\n",
       "      <td>201.000000</td>\n",
       "      <td>201.000000</td>\n",
       "      <td>197.000000</td>\n",
       "      <td>201.000000</td>\n",
       "      <td>201.000000</td>\n",
       "      <td>201.000000</td>\n",
       "      <td>201.000000</td>\n",
       "      <td>201.000000</td>\n",
       "      <td>201.000000</td>\n",
       "      <td>201.000000</td>\n",
       "      <td>201.000000</td>\n",
       "      <td>201.000000</td>\n",
       "    </tr>\n",
       "    <tr>\n",
       "      <th>mean</th>\n",
       "      <td>0.840796</td>\n",
       "      <td>122.00000</td>\n",
       "      <td>98.797015</td>\n",
       "      <td>0.837102</td>\n",
       "      <td>0.915126</td>\n",
       "      <td>53.766667</td>\n",
       "      <td>2555.666667</td>\n",
       "      <td>126.875622</td>\n",
       "      <td>3.330692</td>\n",
       "      <td>3.256904</td>\n",
       "      <td>10.164279</td>\n",
       "      <td>103.405534</td>\n",
       "      <td>5117.665368</td>\n",
       "      <td>25.179104</td>\n",
       "      <td>30.686567</td>\n",
       "      <td>13207.129353</td>\n",
       "      <td>9.944145</td>\n",
       "      <td>0.099502</td>\n",
       "      <td>0.900498</td>\n",
       "    </tr>\n",
       "    <tr>\n",
       "      <th>std</th>\n",
       "      <td>1.254802</td>\n",
       "      <td>31.99625</td>\n",
       "      <td>6.066366</td>\n",
       "      <td>0.059213</td>\n",
       "      <td>0.029187</td>\n",
       "      <td>2.447822</td>\n",
       "      <td>517.296727</td>\n",
       "      <td>41.546834</td>\n",
       "      <td>0.268072</td>\n",
       "      <td>0.319256</td>\n",
       "      <td>4.004965</td>\n",
       "      <td>37.365700</td>\n",
       "      <td>478.113805</td>\n",
       "      <td>6.423220</td>\n",
       "      <td>6.815150</td>\n",
       "      <td>7947.066342</td>\n",
       "      <td>2.534599</td>\n",
       "      <td>0.300083</td>\n",
       "      <td>0.300083</td>\n",
       "    </tr>\n",
       "    <tr>\n",
       "      <th>min</th>\n",
       "      <td>-2.000000</td>\n",
       "      <td>65.00000</td>\n",
       "      <td>86.600000</td>\n",
       "      <td>0.678039</td>\n",
       "      <td>0.837500</td>\n",
       "      <td>47.800000</td>\n",
       "      <td>1488.000000</td>\n",
       "      <td>61.000000</td>\n",
       "      <td>2.540000</td>\n",
       "      <td>2.070000</td>\n",
       "      <td>7.000000</td>\n",
       "      <td>48.000000</td>\n",
       "      <td>4150.000000</td>\n",
       "      <td>13.000000</td>\n",
       "      <td>16.000000</td>\n",
       "      <td>5118.000000</td>\n",
       "      <td>4.795918</td>\n",
       "      <td>0.000000</td>\n",
       "      <td>0.000000</td>\n",
       "    </tr>\n",
       "    <tr>\n",
       "      <th>25%</th>\n",
       "      <td>0.000000</td>\n",
       "      <td>101.00000</td>\n",
       "      <td>94.500000</td>\n",
       "      <td>0.801538</td>\n",
       "      <td>0.890278</td>\n",
       "      <td>52.000000</td>\n",
       "      <td>2169.000000</td>\n",
       "      <td>98.000000</td>\n",
       "      <td>3.150000</td>\n",
       "      <td>3.110000</td>\n",
       "      <td>8.600000</td>\n",
       "      <td>70.000000</td>\n",
       "      <td>4800.000000</td>\n",
       "      <td>19.000000</td>\n",
       "      <td>25.000000</td>\n",
       "      <td>7775.000000</td>\n",
       "      <td>7.833333</td>\n",
       "      <td>0.000000</td>\n",
       "      <td>1.000000</td>\n",
       "    </tr>\n",
       "    <tr>\n",
       "      <th>50%</th>\n",
       "      <td>1.000000</td>\n",
       "      <td>122.00000</td>\n",
       "      <td>97.000000</td>\n",
       "      <td>0.832292</td>\n",
       "      <td>0.909722</td>\n",
       "      <td>54.100000</td>\n",
       "      <td>2414.000000</td>\n",
       "      <td>120.000000</td>\n",
       "      <td>3.310000</td>\n",
       "      <td>3.290000</td>\n",
       "      <td>9.000000</td>\n",
       "      <td>95.000000</td>\n",
       "      <td>5125.369458</td>\n",
       "      <td>24.000000</td>\n",
       "      <td>30.000000</td>\n",
       "      <td>10295.000000</td>\n",
       "      <td>9.791667</td>\n",
       "      <td>0.000000</td>\n",
       "      <td>1.000000</td>\n",
       "    </tr>\n",
       "    <tr>\n",
       "      <th>75%</th>\n",
       "      <td>2.000000</td>\n",
       "      <td>137.00000</td>\n",
       "      <td>102.400000</td>\n",
       "      <td>0.881788</td>\n",
       "      <td>0.925000</td>\n",
       "      <td>55.500000</td>\n",
       "      <td>2926.000000</td>\n",
       "      <td>141.000000</td>\n",
       "      <td>3.580000</td>\n",
       "      <td>3.410000</td>\n",
       "      <td>9.400000</td>\n",
       "      <td>116.000000</td>\n",
       "      <td>5500.000000</td>\n",
       "      <td>30.000000</td>\n",
       "      <td>34.000000</td>\n",
       "      <td>16500.000000</td>\n",
       "      <td>12.368421</td>\n",
       "      <td>0.000000</td>\n",
       "      <td>1.000000</td>\n",
       "    </tr>\n",
       "    <tr>\n",
       "      <th>max</th>\n",
       "      <td>3.000000</td>\n",
       "      <td>256.00000</td>\n",
       "      <td>120.900000</td>\n",
       "      <td>1.000000</td>\n",
       "      <td>1.000000</td>\n",
       "      <td>59.800000</td>\n",
       "      <td>4066.000000</td>\n",
       "      <td>326.000000</td>\n",
       "      <td>3.940000</td>\n",
       "      <td>4.170000</td>\n",
       "      <td>23.000000</td>\n",
       "      <td>262.000000</td>\n",
       "      <td>6600.000000</td>\n",
       "      <td>49.000000</td>\n",
       "      <td>54.000000</td>\n",
       "      <td>45400.000000</td>\n",
       "      <td>18.076923</td>\n",
       "      <td>1.000000</td>\n",
       "      <td>1.000000</td>\n",
       "    </tr>\n",
       "  </tbody>\n",
       "</table>\n",
       "</div>"
      ],
      "text/plain": [
       "        symboling  normalized-losses  wheel-base      length       width  \\\n",
       "count  201.000000          201.00000  201.000000  201.000000  201.000000   \n",
       "mean     0.840796          122.00000   98.797015    0.837102    0.915126   \n",
       "std      1.254802           31.99625    6.066366    0.059213    0.029187   \n",
       "min     -2.000000           65.00000   86.600000    0.678039    0.837500   \n",
       "25%      0.000000          101.00000   94.500000    0.801538    0.890278   \n",
       "50%      1.000000          122.00000   97.000000    0.832292    0.909722   \n",
       "75%      2.000000          137.00000  102.400000    0.881788    0.925000   \n",
       "max      3.000000          256.00000  120.900000    1.000000    1.000000   \n",
       "\n",
       "           height  curb-weight  engine-size        bore      stroke  \\\n",
       "count  201.000000   201.000000   201.000000  201.000000  197.000000   \n",
       "mean    53.766667  2555.666667   126.875622    3.330692    3.256904   \n",
       "std      2.447822   517.296727    41.546834    0.268072    0.319256   \n",
       "min     47.800000  1488.000000    61.000000    2.540000    2.070000   \n",
       "25%     52.000000  2169.000000    98.000000    3.150000    3.110000   \n",
       "50%     54.100000  2414.000000   120.000000    3.310000    3.290000   \n",
       "75%     55.500000  2926.000000   141.000000    3.580000    3.410000   \n",
       "max     59.800000  4066.000000   326.000000    3.940000    4.170000   \n",
       "\n",
       "       compression-ratio  horsepower     peak-rpm    city-mpg  highway-mpg  \\\n",
       "count         201.000000  201.000000   201.000000  201.000000   201.000000   \n",
       "mean           10.164279  103.405534  5117.665368   25.179104    30.686567   \n",
       "std             4.004965   37.365700   478.113805    6.423220     6.815150   \n",
       "min             7.000000   48.000000  4150.000000   13.000000    16.000000   \n",
       "25%             8.600000   70.000000  4800.000000   19.000000    25.000000   \n",
       "50%             9.000000   95.000000  5125.369458   24.000000    30.000000   \n",
       "75%             9.400000  116.000000  5500.000000   30.000000    34.000000   \n",
       "max            23.000000  262.000000  6600.000000   49.000000    54.000000   \n",
       "\n",
       "              price  city-L/100km      diesel         gas  \n",
       "count    201.000000    201.000000  201.000000  201.000000  \n",
       "mean   13207.129353      9.944145    0.099502    0.900498  \n",
       "std     7947.066342      2.534599    0.300083    0.300083  \n",
       "min     5118.000000      4.795918    0.000000    0.000000  \n",
       "25%     7775.000000      7.833333    0.000000    1.000000  \n",
       "50%    10295.000000      9.791667    0.000000    1.000000  \n",
       "75%    16500.000000     12.368421    0.000000    1.000000  \n",
       "max    45400.000000     18.076923    1.000000    1.000000  "
      ]
     },
     "execution_count": 17,
     "metadata": {},
     "output_type": "execute_result"
    }
   ],
   "source": [
    "# Check the statistics of variables:\n",
    "\n",
    "df.describe()"
   ]
  },
  {
   "cell_type": "code",
   "execution_count": 18,
   "id": "fd93faf8",
   "metadata": {
    "execution": {
     "iopub.execute_input": "2024-01-15T08:29:07.030859Z",
     "iopub.status.busy": "2024-01-15T08:29:07.030146Z",
     "iopub.status.idle": "2024-01-15T08:29:07.058957Z",
     "shell.execute_reply": "2024-01-15T08:29:07.057480Z"
    },
    "papermill": {
     "duration": 0.04939,
     "end_time": "2024-01-15T08:29:07.061111",
     "exception": false,
     "start_time": "2024-01-15T08:29:07.011721",
     "status": "completed"
    },
    "tags": []
   },
   "outputs": [
    {
     "data": {
      "text/html": [
       "<div>\n",
       "<style scoped>\n",
       "    .dataframe tbody tr th:only-of-type {\n",
       "        vertical-align: middle;\n",
       "    }\n",
       "\n",
       "    .dataframe tbody tr th {\n",
       "        vertical-align: top;\n",
       "    }\n",
       "\n",
       "    .dataframe thead th {\n",
       "        text-align: right;\n",
       "    }\n",
       "</style>\n",
       "<table border=\"1\" class=\"dataframe\">\n",
       "  <thead>\n",
       "    <tr style=\"text-align: right;\">\n",
       "      <th></th>\n",
       "      <th>make</th>\n",
       "      <th>aspiration</th>\n",
       "      <th>num-of-doors</th>\n",
       "      <th>body-style</th>\n",
       "      <th>drive-wheels</th>\n",
       "      <th>engine-location</th>\n",
       "      <th>engine-type</th>\n",
       "      <th>num-of-cylinders</th>\n",
       "      <th>fuel-system</th>\n",
       "      <th>horsepower-binned</th>\n",
       "    </tr>\n",
       "  </thead>\n",
       "  <tbody>\n",
       "    <tr>\n",
       "      <th>count</th>\n",
       "      <td>201</td>\n",
       "      <td>201</td>\n",
       "      <td>201</td>\n",
       "      <td>201</td>\n",
       "      <td>201</td>\n",
       "      <td>201</td>\n",
       "      <td>201</td>\n",
       "      <td>201</td>\n",
       "      <td>201</td>\n",
       "      <td>200</td>\n",
       "    </tr>\n",
       "    <tr>\n",
       "      <th>unique</th>\n",
       "      <td>22</td>\n",
       "      <td>2</td>\n",
       "      <td>2</td>\n",
       "      <td>5</td>\n",
       "      <td>3</td>\n",
       "      <td>2</td>\n",
       "      <td>6</td>\n",
       "      <td>7</td>\n",
       "      <td>8</td>\n",
       "      <td>3</td>\n",
       "    </tr>\n",
       "    <tr>\n",
       "      <th>top</th>\n",
       "      <td>toyota</td>\n",
       "      <td>std</td>\n",
       "      <td>four</td>\n",
       "      <td>sedan</td>\n",
       "      <td>fwd</td>\n",
       "      <td>front</td>\n",
       "      <td>ohc</td>\n",
       "      <td>four</td>\n",
       "      <td>mpfi</td>\n",
       "      <td>Low</td>\n",
       "    </tr>\n",
       "    <tr>\n",
       "      <th>freq</th>\n",
       "      <td>32</td>\n",
       "      <td>165</td>\n",
       "      <td>115</td>\n",
       "      <td>94</td>\n",
       "      <td>118</td>\n",
       "      <td>198</td>\n",
       "      <td>145</td>\n",
       "      <td>157</td>\n",
       "      <td>92</td>\n",
       "      <td>115</td>\n",
       "    </tr>\n",
       "  </tbody>\n",
       "</table>\n",
       "</div>"
      ],
      "text/plain": [
       "          make aspiration num-of-doors body-style drive-wheels  \\\n",
       "count      201        201          201        201          201   \n",
       "unique      22          2            2          5            3   \n",
       "top     toyota        std         four      sedan          fwd   \n",
       "freq        32        165          115         94          118   \n",
       "\n",
       "       engine-location engine-type num-of-cylinders fuel-system  \\\n",
       "count              201         201              201         201   \n",
       "unique               2           6                7           8   \n",
       "top              front         ohc             four        mpfi   \n",
       "freq               198         145              157          92   \n",
       "\n",
       "       horsepower-binned  \n",
       "count                200  \n",
       "unique                 3  \n",
       "top                  Low  \n",
       "freq                 115  "
      ]
     },
     "execution_count": 18,
     "metadata": {},
     "output_type": "execute_result"
    }
   ],
   "source": [
    "# Check the statistics of 'object' type variables:\n",
    "\n",
    "df.describe(include=['object'])"
   ]
  },
  {
   "cell_type": "code",
   "execution_count": 19,
   "id": "5e3897a1",
   "metadata": {
    "execution": {
     "iopub.execute_input": "2024-01-15T08:29:07.097690Z",
     "iopub.status.busy": "2024-01-15T08:29:07.097303Z",
     "iopub.status.idle": "2024-01-15T08:29:07.105762Z",
     "shell.execute_reply": "2024-01-15T08:29:07.104643Z"
    },
    "papermill": {
     "duration": 0.028707,
     "end_time": "2024-01-15T08:29:07.107483",
     "exception": false,
     "start_time": "2024-01-15T08:29:07.078776",
     "status": "completed"
    },
    "tags": []
   },
   "outputs": [
    {
     "data": {
      "text/plain": [
       "drive-wheels\n",
       "fwd    118\n",
       "rwd     75\n",
       "4wd      8\n",
       "Name: count, dtype: int64"
      ]
     },
     "execution_count": 19,
     "metadata": {},
     "output_type": "execute_result"
    }
   ],
   "source": [
    "# Check the values in the column \"drive-wheels\":\n",
    "\n",
    "df['drive-wheels'].value_counts()"
   ]
  },
  {
   "cell_type": "code",
   "execution_count": 20,
   "id": "9690e800",
   "metadata": {
    "execution": {
     "iopub.execute_input": "2024-01-15T08:29:07.144485Z",
     "iopub.status.busy": "2024-01-15T08:29:07.143379Z",
     "iopub.status.idle": "2024-01-15T08:29:07.154296Z",
     "shell.execute_reply": "2024-01-15T08:29:07.153147Z"
    },
    "papermill": {
     "duration": 0.031183,
     "end_time": "2024-01-15T08:29:07.156229",
     "exception": false,
     "start_time": "2024-01-15T08:29:07.125046",
     "status": "completed"
    },
    "tags": []
   },
   "outputs": [
    {
     "data": {
      "text/html": [
       "<div>\n",
       "<style scoped>\n",
       "    .dataframe tbody tr th:only-of-type {\n",
       "        vertical-align: middle;\n",
       "    }\n",
       "\n",
       "    .dataframe tbody tr th {\n",
       "        vertical-align: top;\n",
       "    }\n",
       "\n",
       "    .dataframe thead th {\n",
       "        text-align: right;\n",
       "    }\n",
       "</style>\n",
       "<table border=\"1\" class=\"dataframe\">\n",
       "  <thead>\n",
       "    <tr style=\"text-align: right;\">\n",
       "      <th></th>\n",
       "      <th>count</th>\n",
       "    </tr>\n",
       "    <tr>\n",
       "      <th>drive-wheels</th>\n",
       "      <th></th>\n",
       "    </tr>\n",
       "  </thead>\n",
       "  <tbody>\n",
       "    <tr>\n",
       "      <th>fwd</th>\n",
       "      <td>118</td>\n",
       "    </tr>\n",
       "    <tr>\n",
       "      <th>rwd</th>\n",
       "      <td>75</td>\n",
       "    </tr>\n",
       "    <tr>\n",
       "      <th>4wd</th>\n",
       "      <td>8</td>\n",
       "    </tr>\n",
       "  </tbody>\n",
       "</table>\n",
       "</div>"
      ],
      "text/plain": [
       "              count\n",
       "drive-wheels       \n",
       "fwd             118\n",
       "rwd              75\n",
       "4wd               8"
      ]
     },
     "execution_count": 20,
     "metadata": {},
     "output_type": "execute_result"
    }
   ],
   "source": [
    "# Convert the series to a dataframe:\n",
    "\n",
    "drive_wheels_counts = df['drive-wheels'].value_counts().to_frame()\n",
    "drive_wheels_counts"
   ]
  },
  {
   "cell_type": "code",
   "execution_count": 21,
   "id": "0ba5fe31",
   "metadata": {
    "execution": {
     "iopub.execute_input": "2024-01-15T08:29:07.193991Z",
     "iopub.status.busy": "2024-01-15T08:29:07.193599Z",
     "iopub.status.idle": "2024-01-15T08:29:07.199935Z",
     "shell.execute_reply": "2024-01-15T08:29:07.198683Z"
    },
    "papermill": {
     "duration": 0.026834,
     "end_time": "2024-01-15T08:29:07.201878",
     "exception": false,
     "start_time": "2024-01-15T08:29:07.175044",
     "status": "completed"
    },
    "tags": []
   },
   "outputs": [],
   "source": [
    "# Rename the column 'drive-wheels' to 'value_counts':\n",
    "\n",
    "drive_wheels_counts.rename(columns={'drive-wheels' : 'value_counts'}, inplace=True)"
   ]
  },
  {
   "cell_type": "code",
   "execution_count": 22,
   "id": "58c54748",
   "metadata": {
    "execution": {
     "iopub.execute_input": "2024-01-15T08:29:07.238764Z",
     "iopub.status.busy": "2024-01-15T08:29:07.238364Z",
     "iopub.status.idle": "2024-01-15T08:29:07.243113Z",
     "shell.execute_reply": "2024-01-15T08:29:07.241689Z"
    },
    "papermill": {
     "duration": 0.025839,
     "end_time": "2024-01-15T08:29:07.245227",
     "exception": false,
     "start_time": "2024-01-15T08:29:07.219388",
     "status": "completed"
    },
    "tags": []
   },
   "outputs": [],
   "source": [
    "# Rename the index to 'drive-wheels':\n",
    "\n",
    "drive_wheels_counts.index.name = 'drive-wheels'"
   ]
  },
  {
   "cell_type": "code",
   "execution_count": 23,
   "id": "7b6f93c1",
   "metadata": {
    "execution": {
     "iopub.execute_input": "2024-01-15T08:29:07.281483Z",
     "iopub.status.busy": "2024-01-15T08:29:07.281104Z",
     "iopub.status.idle": "2024-01-15T08:29:07.292409Z",
     "shell.execute_reply": "2024-01-15T08:29:07.291722Z"
    },
    "papermill": {
     "duration": 0.031474,
     "end_time": "2024-01-15T08:29:07.294190",
     "exception": false,
     "start_time": "2024-01-15T08:29:07.262716",
     "status": "completed"
    },
    "tags": []
   },
   "outputs": [
    {
     "data": {
      "text/html": [
       "<div>\n",
       "<style scoped>\n",
       "    .dataframe tbody tr th:only-of-type {\n",
       "        vertical-align: middle;\n",
       "    }\n",
       "\n",
       "    .dataframe tbody tr th {\n",
       "        vertical-align: top;\n",
       "    }\n",
       "\n",
       "    .dataframe thead th {\n",
       "        text-align: right;\n",
       "    }\n",
       "</style>\n",
       "<table border=\"1\" class=\"dataframe\">\n",
       "  <thead>\n",
       "    <tr style=\"text-align: right;\">\n",
       "      <th></th>\n",
       "      <th>count</th>\n",
       "    </tr>\n",
       "    <tr>\n",
       "      <th>engine-location</th>\n",
       "      <th></th>\n",
       "    </tr>\n",
       "  </thead>\n",
       "  <tbody>\n",
       "    <tr>\n",
       "      <th>front</th>\n",
       "      <td>198</td>\n",
       "    </tr>\n",
       "    <tr>\n",
       "      <th>rear</th>\n",
       "      <td>3</td>\n",
       "    </tr>\n",
       "  </tbody>\n",
       "</table>\n",
       "</div>"
      ],
      "text/plain": [
       "                 count\n",
       "engine-location       \n",
       "front              198\n",
       "rear                 3"
      ]
     },
     "execution_count": 23,
     "metadata": {},
     "output_type": "execute_result"
    }
   ],
   "source": [
    "# Repeat the above process for the variable 'engine-location':\n",
    "\n",
    "engine_loc_counts = df['engine-location'].value_counts().to_frame()\n",
    "engine_loc_counts.rename(columns={'engine-location': 'value_counts'}, inplace=True)\n",
    "engine_loc_counts.index.name = 'engine-location'\n",
    "engine_loc_counts"
   ]
  },
  {
   "cell_type": "markdown",
   "id": "00ece180",
   "metadata": {
    "papermill": {
     "duration": 0.017785,
     "end_time": "2024-01-15T08:29:07.330472",
     "exception": false,
     "start_time": "2024-01-15T08:29:07.312687",
     "status": "completed"
    },
    "tags": []
   },
   "source": [
    "### Conclusion:\n",
    "After examining the value counts of the engine location, we see that engine location would not be a good predictor variable for the price. This is because we only have three cars with a rear engine and 198 with an engine in the front, so this result is skewed. Thus, we are not able to draw any conclusions about the engine location."
   ]
  },
  {
   "cell_type": "markdown",
   "id": "8efd4bd4",
   "metadata": {
    "papermill": {
     "duration": 0.017765,
     "end_time": "2024-01-15T08:29:07.366123",
     "exception": false,
     "start_time": "2024-01-15T08:29:07.348358",
     "status": "completed"
    },
    "tags": []
   },
   "source": [
    "# 5. Grouping and Pivot Tables"
   ]
  },
  {
   "cell_type": "code",
   "execution_count": 24,
   "id": "c4ad6dfa",
   "metadata": {
    "execution": {
     "iopub.execute_input": "2024-01-15T08:29:07.403537Z",
     "iopub.status.busy": "2024-01-15T08:29:07.403137Z",
     "iopub.status.idle": "2024-01-15T08:29:07.409711Z",
     "shell.execute_reply": "2024-01-15T08:29:07.408577Z"
    },
    "papermill": {
     "duration": 0.027496,
     "end_time": "2024-01-15T08:29:07.411443",
     "exception": false,
     "start_time": "2024-01-15T08:29:07.383947",
     "status": "completed"
    },
    "tags": []
   },
   "outputs": [
    {
     "data": {
      "text/plain": [
       "array(['rwd', 'fwd', '4wd'], dtype=object)"
      ]
     },
     "execution_count": 24,
     "metadata": {},
     "output_type": "execute_result"
    }
   ],
   "source": [
    "# Check unique values in the column 'drive-wheels':\n",
    "\n",
    "df['drive-wheels'].unique()"
   ]
  },
  {
   "cell_type": "code",
   "execution_count": 25,
   "id": "e7ad25c4",
   "metadata": {
    "execution": {
     "iopub.execute_input": "2024-01-15T08:29:07.448622Z",
     "iopub.status.busy": "2024-01-15T08:29:07.448248Z",
     "iopub.status.idle": "2024-01-15T08:29:07.454624Z",
     "shell.execute_reply": "2024-01-15T08:29:07.453472Z"
    },
    "papermill": {
     "duration": 0.02716,
     "end_time": "2024-01-15T08:29:07.456530",
     "exception": false,
     "start_time": "2024-01-15T08:29:07.429370",
     "status": "completed"
    },
    "tags": []
   },
   "outputs": [],
   "source": [
    "# Select the columns 'drive-wheels' and 'price', then assign it to the \"df_group_one\":\n",
    "\n",
    "df_group_one = df[['drive-wheels', 'price']]"
   ]
  },
  {
   "cell_type": "code",
   "execution_count": 26,
   "id": "4b73e103",
   "metadata": {
    "execution": {
     "iopub.execute_input": "2024-01-15T08:29:07.494041Z",
     "iopub.status.busy": "2024-01-15T08:29:07.493691Z",
     "iopub.status.idle": "2024-01-15T08:29:07.504822Z",
     "shell.execute_reply": "2024-01-15T08:29:07.503906Z"
    },
    "papermill": {
     "duration": 0.031965,
     "end_time": "2024-01-15T08:29:07.506721",
     "exception": false,
     "start_time": "2024-01-15T08:29:07.474756",
     "status": "completed"
    },
    "tags": []
   },
   "outputs": [],
   "source": [
    "# Calculate the average price for each of the different categories of data:\n",
    "\n",
    "df_group_one = df_group_one.groupby(['drive-wheels'],as_index=False).mean()"
   ]
  },
  {
   "cell_type": "code",
   "execution_count": 27,
   "id": "8fab3faf",
   "metadata": {
    "execution": {
     "iopub.execute_input": "2024-01-15T08:29:07.544472Z",
     "iopub.status.busy": "2024-01-15T08:29:07.544152Z",
     "iopub.status.idle": "2024-01-15T08:29:07.552322Z",
     "shell.execute_reply": "2024-01-15T08:29:07.551444Z"
    },
    "papermill": {
     "duration": 0.029122,
     "end_time": "2024-01-15T08:29:07.554025",
     "exception": false,
     "start_time": "2024-01-15T08:29:07.524903",
     "status": "completed"
    },
    "tags": []
   },
   "outputs": [
    {
     "data": {
      "text/html": [
       "<div>\n",
       "<style scoped>\n",
       "    .dataframe tbody tr th:only-of-type {\n",
       "        vertical-align: middle;\n",
       "    }\n",
       "\n",
       "    .dataframe tbody tr th {\n",
       "        vertical-align: top;\n",
       "    }\n",
       "\n",
       "    .dataframe thead th {\n",
       "        text-align: right;\n",
       "    }\n",
       "</style>\n",
       "<table border=\"1\" class=\"dataframe\">\n",
       "  <thead>\n",
       "    <tr style=\"text-align: right;\">\n",
       "      <th></th>\n",
       "      <th>drive-wheels</th>\n",
       "      <th>price</th>\n",
       "    </tr>\n",
       "  </thead>\n",
       "  <tbody>\n",
       "    <tr>\n",
       "      <th>0</th>\n",
       "      <td>4wd</td>\n",
       "      <td>10241.000000</td>\n",
       "    </tr>\n",
       "    <tr>\n",
       "      <th>1</th>\n",
       "      <td>fwd</td>\n",
       "      <td>9244.779661</td>\n",
       "    </tr>\n",
       "    <tr>\n",
       "      <th>2</th>\n",
       "      <td>rwd</td>\n",
       "      <td>19757.613333</td>\n",
       "    </tr>\n",
       "  </tbody>\n",
       "</table>\n",
       "</div>"
      ],
      "text/plain": [
       "  drive-wheels         price\n",
       "0          4wd  10241.000000\n",
       "1          fwd   9244.779661\n",
       "2          rwd  19757.613333"
      ]
     },
     "execution_count": 27,
     "metadata": {},
     "output_type": "execute_result"
    }
   ],
   "source": [
    "# Check the result:\n",
    "\n",
    "df_group_one"
   ]
  },
  {
   "cell_type": "markdown",
   "id": "df3394b1",
   "metadata": {
    "papermill": {
     "duration": 0.018406,
     "end_time": "2024-01-15T08:29:07.591108",
     "exception": false,
     "start_time": "2024-01-15T08:29:07.572702",
     "status": "completed"
    },
    "tags": []
   },
   "source": [
    "### Conclusion:\n",
    "From our data, it seems rear-wheel drive vehicles are, on average, the most expensive, while 4-wheel and front-wheel are approximately the same in price."
   ]
  },
  {
   "cell_type": "code",
   "execution_count": 28,
   "id": "a24ccade",
   "metadata": {
    "execution": {
     "iopub.execute_input": "2024-01-15T08:29:07.629843Z",
     "iopub.status.busy": "2024-01-15T08:29:07.629457Z",
     "iopub.status.idle": "2024-01-15T08:29:07.634339Z",
     "shell.execute_reply": "2024-01-15T08:29:07.633720Z"
    },
    "papermill": {
     "duration": 0.027284,
     "end_time": "2024-01-15T08:29:07.636814",
     "exception": false,
     "start_time": "2024-01-15T08:29:07.609530",
     "status": "completed"
    },
    "tags": []
   },
   "outputs": [],
   "source": [
    "# Let's group by both 'drive-wheels' and 'body-style'.\n",
    "\n",
    "# Select the columns 'drive-wheels','body-style' and 'price', then assign it to the \"df_gptest\":\n",
    "\n",
    "df_gptest = df[['drive-wheels','body-style','price']]"
   ]
  },
  {
   "cell_type": "code",
   "execution_count": 29,
   "id": "fdc97a7b",
   "metadata": {
    "execution": {
     "iopub.execute_input": "2024-01-15T08:29:07.675646Z",
     "iopub.status.busy": "2024-01-15T08:29:07.675266Z",
     "iopub.status.idle": "2024-01-15T08:29:07.686601Z",
     "shell.execute_reply": "2024-01-15T08:29:07.685622Z"
    },
    "papermill": {
     "duration": 0.034008,
     "end_time": "2024-01-15T08:29:07.689310",
     "exception": false,
     "start_time": "2024-01-15T08:29:07.655302",
     "status": "completed"
    },
    "tags": []
   },
   "outputs": [],
   "source": [
    "# Calculate the average price:\n",
    "\n",
    "grouped_test1 = df_gptest.groupby(['drive-wheels','body-style'],as_index=False).mean()"
   ]
  },
  {
   "cell_type": "code",
   "execution_count": 30,
   "id": "cc23bb00",
   "metadata": {
    "execution": {
     "iopub.execute_input": "2024-01-15T08:29:07.727741Z",
     "iopub.status.busy": "2024-01-15T08:29:07.727354Z",
     "iopub.status.idle": "2024-01-15T08:29:07.738506Z",
     "shell.execute_reply": "2024-01-15T08:29:07.737257Z"
    },
    "papermill": {
     "duration": 0.03314,
     "end_time": "2024-01-15T08:29:07.740641",
     "exception": false,
     "start_time": "2024-01-15T08:29:07.707501",
     "status": "completed"
    },
    "tags": []
   },
   "outputs": [
    {
     "data": {
      "text/html": [
       "<div>\n",
       "<style scoped>\n",
       "    .dataframe tbody tr th:only-of-type {\n",
       "        vertical-align: middle;\n",
       "    }\n",
       "\n",
       "    .dataframe tbody tr th {\n",
       "        vertical-align: top;\n",
       "    }\n",
       "\n",
       "    .dataframe thead th {\n",
       "        text-align: right;\n",
       "    }\n",
       "</style>\n",
       "<table border=\"1\" class=\"dataframe\">\n",
       "  <thead>\n",
       "    <tr style=\"text-align: right;\">\n",
       "      <th></th>\n",
       "      <th>drive-wheels</th>\n",
       "      <th>body-style</th>\n",
       "      <th>price</th>\n",
       "    </tr>\n",
       "  </thead>\n",
       "  <tbody>\n",
       "    <tr>\n",
       "      <th>0</th>\n",
       "      <td>4wd</td>\n",
       "      <td>hatchback</td>\n",
       "      <td>7603.000000</td>\n",
       "    </tr>\n",
       "    <tr>\n",
       "      <th>1</th>\n",
       "      <td>4wd</td>\n",
       "      <td>sedan</td>\n",
       "      <td>12647.333333</td>\n",
       "    </tr>\n",
       "    <tr>\n",
       "      <th>2</th>\n",
       "      <td>4wd</td>\n",
       "      <td>wagon</td>\n",
       "      <td>9095.750000</td>\n",
       "    </tr>\n",
       "    <tr>\n",
       "      <th>3</th>\n",
       "      <td>fwd</td>\n",
       "      <td>convertible</td>\n",
       "      <td>11595.000000</td>\n",
       "    </tr>\n",
       "    <tr>\n",
       "      <th>4</th>\n",
       "      <td>fwd</td>\n",
       "      <td>hardtop</td>\n",
       "      <td>8249.000000</td>\n",
       "    </tr>\n",
       "    <tr>\n",
       "      <th>5</th>\n",
       "      <td>fwd</td>\n",
       "      <td>hatchback</td>\n",
       "      <td>8396.387755</td>\n",
       "    </tr>\n",
       "    <tr>\n",
       "      <th>6</th>\n",
       "      <td>fwd</td>\n",
       "      <td>sedan</td>\n",
       "      <td>9811.800000</td>\n",
       "    </tr>\n",
       "    <tr>\n",
       "      <th>7</th>\n",
       "      <td>fwd</td>\n",
       "      <td>wagon</td>\n",
       "      <td>9997.333333</td>\n",
       "    </tr>\n",
       "    <tr>\n",
       "      <th>8</th>\n",
       "      <td>rwd</td>\n",
       "      <td>convertible</td>\n",
       "      <td>23949.600000</td>\n",
       "    </tr>\n",
       "    <tr>\n",
       "      <th>9</th>\n",
       "      <td>rwd</td>\n",
       "      <td>hardtop</td>\n",
       "      <td>24202.714286</td>\n",
       "    </tr>\n",
       "    <tr>\n",
       "      <th>10</th>\n",
       "      <td>rwd</td>\n",
       "      <td>hatchback</td>\n",
       "      <td>14337.777778</td>\n",
       "    </tr>\n",
       "    <tr>\n",
       "      <th>11</th>\n",
       "      <td>rwd</td>\n",
       "      <td>sedan</td>\n",
       "      <td>21711.833333</td>\n",
       "    </tr>\n",
       "    <tr>\n",
       "      <th>12</th>\n",
       "      <td>rwd</td>\n",
       "      <td>wagon</td>\n",
       "      <td>16994.222222</td>\n",
       "    </tr>\n",
       "  </tbody>\n",
       "</table>\n",
       "</div>"
      ],
      "text/plain": [
       "   drive-wheels   body-style         price\n",
       "0           4wd    hatchback   7603.000000\n",
       "1           4wd        sedan  12647.333333\n",
       "2           4wd        wagon   9095.750000\n",
       "3           fwd  convertible  11595.000000\n",
       "4           fwd      hardtop   8249.000000\n",
       "5           fwd    hatchback   8396.387755\n",
       "6           fwd        sedan   9811.800000\n",
       "7           fwd        wagon   9997.333333\n",
       "8           rwd  convertible  23949.600000\n",
       "9           rwd      hardtop  24202.714286\n",
       "10          rwd    hatchback  14337.777778\n",
       "11          rwd        sedan  21711.833333\n",
       "12          rwd        wagon  16994.222222"
      ]
     },
     "execution_count": 30,
     "metadata": {},
     "output_type": "execute_result"
    }
   ],
   "source": [
    "# Check the result:\n",
    "\n",
    "grouped_test1"
   ]
  },
  {
   "cell_type": "code",
   "execution_count": 31,
   "id": "73448d9d",
   "metadata": {
    "execution": {
     "iopub.execute_input": "2024-01-15T08:29:07.779465Z",
     "iopub.status.busy": "2024-01-15T08:29:07.779020Z",
     "iopub.status.idle": "2024-01-15T08:29:07.789935Z",
     "shell.execute_reply": "2024-01-15T08:29:07.788803Z"
    },
    "papermill": {
     "duration": 0.032877,
     "end_time": "2024-01-15T08:29:07.792346",
     "exception": false,
     "start_time": "2024-01-15T08:29:07.759469",
     "status": "completed"
    },
    "tags": []
   },
   "outputs": [],
   "source": [
    "# Convert the dataframe to a pivot table:\n",
    "\n",
    "grouped_pivot = grouped_test1.pivot(index='drive-wheels',columns='body-style')"
   ]
  },
  {
   "cell_type": "code",
   "execution_count": 32,
   "id": "a794d393",
   "metadata": {
    "execution": {
     "iopub.execute_input": "2024-01-15T08:29:07.833506Z",
     "iopub.status.busy": "2024-01-15T08:29:07.832072Z",
     "iopub.status.idle": "2024-01-15T08:29:07.846178Z",
     "shell.execute_reply": "2024-01-15T08:29:07.845210Z"
    },
    "papermill": {
     "duration": 0.036093,
     "end_time": "2024-01-15T08:29:07.848389",
     "exception": false,
     "start_time": "2024-01-15T08:29:07.812296",
     "status": "completed"
    },
    "tags": []
   },
   "outputs": [
    {
     "data": {
      "text/html": [
       "<div>\n",
       "<style scoped>\n",
       "    .dataframe tbody tr th:only-of-type {\n",
       "        vertical-align: middle;\n",
       "    }\n",
       "\n",
       "    .dataframe tbody tr th {\n",
       "        vertical-align: top;\n",
       "    }\n",
       "\n",
       "    .dataframe thead tr th {\n",
       "        text-align: left;\n",
       "    }\n",
       "\n",
       "    .dataframe thead tr:last-of-type th {\n",
       "        text-align: right;\n",
       "    }\n",
       "</style>\n",
       "<table border=\"1\" class=\"dataframe\">\n",
       "  <thead>\n",
       "    <tr>\n",
       "      <th></th>\n",
       "      <th colspan=\"5\" halign=\"left\">price</th>\n",
       "    </tr>\n",
       "    <tr>\n",
       "      <th>body-style</th>\n",
       "      <th>convertible</th>\n",
       "      <th>hardtop</th>\n",
       "      <th>hatchback</th>\n",
       "      <th>sedan</th>\n",
       "      <th>wagon</th>\n",
       "    </tr>\n",
       "    <tr>\n",
       "      <th>drive-wheels</th>\n",
       "      <th></th>\n",
       "      <th></th>\n",
       "      <th></th>\n",
       "      <th></th>\n",
       "      <th></th>\n",
       "    </tr>\n",
       "  </thead>\n",
       "  <tbody>\n",
       "    <tr>\n",
       "      <th>4wd</th>\n",
       "      <td>NaN</td>\n",
       "      <td>NaN</td>\n",
       "      <td>7603.000000</td>\n",
       "      <td>12647.333333</td>\n",
       "      <td>9095.750000</td>\n",
       "    </tr>\n",
       "    <tr>\n",
       "      <th>fwd</th>\n",
       "      <td>11595.0</td>\n",
       "      <td>8249.000000</td>\n",
       "      <td>8396.387755</td>\n",
       "      <td>9811.800000</td>\n",
       "      <td>9997.333333</td>\n",
       "    </tr>\n",
       "    <tr>\n",
       "      <th>rwd</th>\n",
       "      <td>23949.6</td>\n",
       "      <td>24202.714286</td>\n",
       "      <td>14337.777778</td>\n",
       "      <td>21711.833333</td>\n",
       "      <td>16994.222222</td>\n",
       "    </tr>\n",
       "  </tbody>\n",
       "</table>\n",
       "</div>"
      ],
      "text/plain": [
       "                   price                                            \\\n",
       "body-style   convertible       hardtop     hatchback         sedan   \n",
       "drive-wheels                                                         \n",
       "4wd                  NaN           NaN   7603.000000  12647.333333   \n",
       "fwd              11595.0   8249.000000   8396.387755   9811.800000   \n",
       "rwd              23949.6  24202.714286  14337.777778  21711.833333   \n",
       "\n",
       "                            \n",
       "body-style           wagon  \n",
       "drive-wheels                \n",
       "4wd            9095.750000  \n",
       "fwd            9997.333333  \n",
       "rwd           16994.222222  "
      ]
     },
     "execution_count": 32,
     "metadata": {},
     "output_type": "execute_result"
    }
   ],
   "source": [
    "# Check the result:\n",
    "\n",
    "grouped_pivot"
   ]
  },
  {
   "cell_type": "code",
   "execution_count": 33,
   "id": "591a0a3c",
   "metadata": {
    "execution": {
     "iopub.execute_input": "2024-01-15T08:29:07.889489Z",
     "iopub.status.busy": "2024-01-15T08:29:07.888600Z",
     "iopub.status.idle": "2024-01-15T08:29:07.894224Z",
     "shell.execute_reply": "2024-01-15T08:29:07.892950Z"
    },
    "papermill": {
     "duration": 0.028998,
     "end_time": "2024-01-15T08:29:07.896890",
     "exception": false,
     "start_time": "2024-01-15T08:29:07.867892",
     "status": "completed"
    },
    "tags": []
   },
   "outputs": [],
   "source": [
    "# Fill missing values with 0:\n",
    "\n",
    "grouped_pivot = grouped_pivot.fillna(0)"
   ]
  },
  {
   "cell_type": "code",
   "execution_count": 34,
   "id": "af8b8f7e",
   "metadata": {
    "execution": {
     "iopub.execute_input": "2024-01-15T08:29:07.936574Z",
     "iopub.status.busy": "2024-01-15T08:29:07.936188Z",
     "iopub.status.idle": "2024-01-15T08:29:07.949510Z",
     "shell.execute_reply": "2024-01-15T08:29:07.948180Z"
    },
    "papermill": {
     "duration": 0.035372,
     "end_time": "2024-01-15T08:29:07.951504",
     "exception": false,
     "start_time": "2024-01-15T08:29:07.916132",
     "status": "completed"
    },
    "tags": []
   },
   "outputs": [
    {
     "data": {
      "text/html": [
       "<div>\n",
       "<style scoped>\n",
       "    .dataframe tbody tr th:only-of-type {\n",
       "        vertical-align: middle;\n",
       "    }\n",
       "\n",
       "    .dataframe tbody tr th {\n",
       "        vertical-align: top;\n",
       "    }\n",
       "\n",
       "    .dataframe thead tr th {\n",
       "        text-align: left;\n",
       "    }\n",
       "\n",
       "    .dataframe thead tr:last-of-type th {\n",
       "        text-align: right;\n",
       "    }\n",
       "</style>\n",
       "<table border=\"1\" class=\"dataframe\">\n",
       "  <thead>\n",
       "    <tr>\n",
       "      <th></th>\n",
       "      <th colspan=\"5\" halign=\"left\">price</th>\n",
       "    </tr>\n",
       "    <tr>\n",
       "      <th>body-style</th>\n",
       "      <th>convertible</th>\n",
       "      <th>hardtop</th>\n",
       "      <th>hatchback</th>\n",
       "      <th>sedan</th>\n",
       "      <th>wagon</th>\n",
       "    </tr>\n",
       "    <tr>\n",
       "      <th>drive-wheels</th>\n",
       "      <th></th>\n",
       "      <th></th>\n",
       "      <th></th>\n",
       "      <th></th>\n",
       "      <th></th>\n",
       "    </tr>\n",
       "  </thead>\n",
       "  <tbody>\n",
       "    <tr>\n",
       "      <th>4wd</th>\n",
       "      <td>0.0</td>\n",
       "      <td>0.000000</td>\n",
       "      <td>7603.000000</td>\n",
       "      <td>12647.333333</td>\n",
       "      <td>9095.750000</td>\n",
       "    </tr>\n",
       "    <tr>\n",
       "      <th>fwd</th>\n",
       "      <td>11595.0</td>\n",
       "      <td>8249.000000</td>\n",
       "      <td>8396.387755</td>\n",
       "      <td>9811.800000</td>\n",
       "      <td>9997.333333</td>\n",
       "    </tr>\n",
       "    <tr>\n",
       "      <th>rwd</th>\n",
       "      <td>23949.6</td>\n",
       "      <td>24202.714286</td>\n",
       "      <td>14337.777778</td>\n",
       "      <td>21711.833333</td>\n",
       "      <td>16994.222222</td>\n",
       "    </tr>\n",
       "  </tbody>\n",
       "</table>\n",
       "</div>"
      ],
      "text/plain": [
       "                   price                                            \\\n",
       "body-style   convertible       hardtop     hatchback         sedan   \n",
       "drive-wheels                                                         \n",
       "4wd                  0.0      0.000000   7603.000000  12647.333333   \n",
       "fwd              11595.0   8249.000000   8396.387755   9811.800000   \n",
       "rwd              23949.6  24202.714286  14337.777778  21711.833333   \n",
       "\n",
       "                            \n",
       "body-style           wagon  \n",
       "drive-wheels                \n",
       "4wd            9095.750000  \n",
       "fwd            9997.333333  \n",
       "rwd           16994.222222  "
      ]
     },
     "execution_count": 34,
     "metadata": {},
     "output_type": "execute_result"
    }
   ],
   "source": [
    "# Check the result:\n",
    "\n",
    "grouped_pivot"
   ]
  },
  {
   "cell_type": "code",
   "execution_count": 35,
   "id": "eadc9220",
   "metadata": {
    "execution": {
     "iopub.execute_input": "2024-01-15T08:29:07.991292Z",
     "iopub.status.busy": "2024-01-15T08:29:07.990508Z",
     "iopub.status.idle": "2024-01-15T08:29:08.002709Z",
     "shell.execute_reply": "2024-01-15T08:29:08.001885Z"
    },
    "papermill": {
     "duration": 0.034261,
     "end_time": "2024-01-15T08:29:08.004607",
     "exception": false,
     "start_time": "2024-01-15T08:29:07.970346",
     "status": "completed"
    },
    "tags": []
   },
   "outputs": [
    {
     "data": {
      "text/html": [
       "<div>\n",
       "<style scoped>\n",
       "    .dataframe tbody tr th:only-of-type {\n",
       "        vertical-align: middle;\n",
       "    }\n",
       "\n",
       "    .dataframe tbody tr th {\n",
       "        vertical-align: top;\n",
       "    }\n",
       "\n",
       "    .dataframe thead th {\n",
       "        text-align: right;\n",
       "    }\n",
       "</style>\n",
       "<table border=\"1\" class=\"dataframe\">\n",
       "  <thead>\n",
       "    <tr style=\"text-align: right;\">\n",
       "      <th></th>\n",
       "      <th>body-style</th>\n",
       "      <th>price</th>\n",
       "    </tr>\n",
       "  </thead>\n",
       "  <tbody>\n",
       "    <tr>\n",
       "      <th>0</th>\n",
       "      <td>convertible</td>\n",
       "      <td>21890.500000</td>\n",
       "    </tr>\n",
       "    <tr>\n",
       "      <th>1</th>\n",
       "      <td>hardtop</td>\n",
       "      <td>22208.500000</td>\n",
       "    </tr>\n",
       "    <tr>\n",
       "      <th>2</th>\n",
       "      <td>hatchback</td>\n",
       "      <td>9957.441176</td>\n",
       "    </tr>\n",
       "    <tr>\n",
       "      <th>3</th>\n",
       "      <td>sedan</td>\n",
       "      <td>14459.755319</td>\n",
       "    </tr>\n",
       "    <tr>\n",
       "      <th>4</th>\n",
       "      <td>wagon</td>\n",
       "      <td>12371.960000</td>\n",
       "    </tr>\n",
       "  </tbody>\n",
       "</table>\n",
       "</div>"
      ],
      "text/plain": [
       "    body-style         price\n",
       "0  convertible  21890.500000\n",
       "1      hardtop  22208.500000\n",
       "2    hatchback   9957.441176\n",
       "3        sedan  14459.755319\n",
       "4        wagon  12371.960000"
      ]
     },
     "execution_count": 35,
     "metadata": {},
     "output_type": "execute_result"
    }
   ],
   "source": [
    "# Find the average \"price\" of each car based on \"body-style\":\n",
    "\n",
    "df_gptest2 = df[['body-style','price']]\n",
    "grouped_test_bodystyle = df_gptest2.groupby(['body-style'],as_index= False).mean()\n",
    "grouped_test_bodystyle"
   ]
  },
  {
   "cell_type": "code",
   "execution_count": 36,
   "id": "1f632e31",
   "metadata": {
    "execution": {
     "iopub.execute_input": "2024-01-15T08:29:08.044709Z",
     "iopub.status.busy": "2024-01-15T08:29:08.044334Z",
     "iopub.status.idle": "2024-01-15T08:29:08.224838Z",
     "shell.execute_reply": "2024-01-15T08:29:08.223689Z"
    },
    "papermill": {
     "duration": 0.203488,
     "end_time": "2024-01-15T08:29:08.226984",
     "exception": false,
     "start_time": "2024-01-15T08:29:08.023496",
     "status": "completed"
    },
    "tags": []
   },
   "outputs": [
    {
     "data": {
      "image/png": "[encoded data removed]",
      "text/plain": [
       "<Figure size 640x480 with 2 Axes>"
      ]
     },
     "metadata": {},
     "output_type": "display_data"
    }
   ],
   "source": [
    "# Use a heat map to visualize the relationship between Drive Wheels and Body Style vs Price:\n",
    "\n",
    "fig, ax = plt.subplots()\n",
    "im = ax.pcolor(grouped_pivot, cmap='RdBu')\n",
    "\n",
    "#label names\n",
    "row_labels = grouped_pivot.columns.levels[1]\n",
    "col_labels = grouped_pivot.index\n",
    "\n",
    "#move ticks and labels to the center\n",
    "ax.set_xticks(np.arange(grouped_pivot.shape[1]) + 0.5, minor=False)\n",
    "ax.set_yticks(np.arange(grouped_pivot.shape[0]) + 0.5, minor=False)\n",
    "\n",
    "#insert labels\n",
    "ax.set_xticklabels(row_labels, minor=False)\n",
    "ax.set_yticklabels(col_labels, minor=False)\n",
    "\n",
    "#rotate label if too long\n",
    "plt.xticks(rotation=90)\n",
    "\n",
    "fig.colorbar(im)\n",
    "plt.show()"
   ]
  },
  {
   "cell_type": "markdown",
   "id": "5ca4b67f",
   "metadata": {
    "papermill": {
     "duration": 0.019964,
     "end_time": "2024-01-15T08:29:08.266570",
     "exception": false,
     "start_time": "2024-01-15T08:29:08.246606",
     "status": "completed"
    },
    "tags": []
   },
   "source": [
    "# 6. Correlation"
   ]
  },
  {
   "cell_type": "code",
   "execution_count": 37,
   "id": "577aeffa",
   "metadata": {
    "execution": {
     "iopub.execute_input": "2024-01-15T08:29:08.307627Z",
     "iopub.status.busy": "2024-01-15T08:29:08.307269Z",
     "iopub.status.idle": "2024-01-15T08:29:08.316005Z",
     "shell.execute_reply": "2024-01-15T08:29:08.314690Z"
    },
    "papermill": {
     "duration": 0.031972,
     "end_time": "2024-01-15T08:29:08.318336",
     "exception": false,
     "start_time": "2024-01-15T08:29:08.286364",
     "status": "completed"
    },
    "tags": []
   },
   "outputs": [
    {
     "name": "stdout",
     "output_type": "stream",
     "text": [
      "The Pearson Correlation Coefficient is 0.584641822265508  with a P-value of P = 8.076488270732885e-20\n"
     ]
    }
   ],
   "source": [
    "# Calculate the Pearson Correlation Coefficient and P-value of 'wheel-base' and 'price':\n",
    "\n",
    "pearson_coef, p_value = stats.pearsonr(df['wheel-base'], df['price'])\n",
    "print(\"The Pearson Correlation Coefficient is\", pearson_coef, \" with a P-value of P =\", p_value)  "
   ]
  },
  {
   "cell_type": "markdown",
   "id": "dece2047",
   "metadata": {
    "papermill": {
     "duration": 0.019735,
     "end_time": "2024-01-15T08:29:08.357153",
     "exception": false,
     "start_time": "2024-01-15T08:29:08.337418",
     "status": "completed"
    },
    "tags": []
   },
   "source": [
    "### Conclusion:\n",
    "Since the p-value is < 0.001, the correlation between wheel-base and price is statistically significant, although the linear relationship isn't extremely strong (~0.585)."
   ]
  },
  {
   "cell_type": "code",
   "execution_count": 38,
   "id": "937c90d4",
   "metadata": {
    "execution": {
     "iopub.execute_input": "2024-01-15T08:29:08.396614Z",
     "iopub.status.busy": "2024-01-15T08:29:08.396253Z",
     "iopub.status.idle": "2024-01-15T08:29:08.404782Z",
     "shell.execute_reply": "2024-01-15T08:29:08.402885Z"
    },
    "papermill": {
     "duration": 0.031288,
     "end_time": "2024-01-15T08:29:08.407378",
     "exception": false,
     "start_time": "2024-01-15T08:29:08.376090",
     "status": "completed"
    },
    "tags": []
   },
   "outputs": [
    {
     "name": "stdout",
     "output_type": "stream",
     "text": [
      "The Pearson Correlation Coefficient is 0.8095745670036559  with a P-value of P =  6.369057428259557e-48\n"
     ]
    }
   ],
   "source": [
    "# Calculate the Pearson Correlation Coefficient and P-value of 'horsepower' and 'price':\n",
    "\n",
    "pearson_coef, p_value = stats.pearsonr(df['horsepower'], df['price'])\n",
    "print(\"The Pearson Correlation Coefficient is\", pearson_coef, \" with a P-value of P = \", p_value)  "
   ]
  },
  {
   "cell_type": "markdown",
   "id": "7d527309",
   "metadata": {
    "papermill": {
     "duration": 0.019575,
     "end_time": "2024-01-15T08:29:08.447062",
     "exception": false,
     "start_time": "2024-01-15T08:29:08.427487",
     "status": "completed"
    },
    "tags": []
   },
   "source": [
    "### Conclusion: \n",
    "Since the p-value is < 0.001, the correlation between horsepower and price is statistically significant, and the linear relationship is quite strong (~0.809, close to 1)."
   ]
  },
  {
   "cell_type": "code",
   "execution_count": 39,
   "id": "61cf7336",
   "metadata": {
    "execution": {
     "iopub.execute_input": "2024-01-15T08:29:08.489705Z",
     "iopub.status.busy": "2024-01-15T08:29:08.488516Z",
     "iopub.status.idle": "2024-01-15T08:29:08.496225Z",
     "shell.execute_reply": "2024-01-15T08:29:08.495223Z"
    },
    "papermill": {
     "duration": 0.031245,
     "end_time": "2024-01-15T08:29:08.498284",
     "exception": false,
     "start_time": "2024-01-15T08:29:08.467039",
     "status": "completed"
    },
    "tags": []
   },
   "outputs": [
    {
     "name": "stdout",
     "output_type": "stream",
     "text": [
      "The Pearson Correlation Coefficient is 0.6906283804483638  with a P-value of P =  8.016477466159723e-30\n"
     ]
    }
   ],
   "source": [
    "# Calculate the Pearson Correlation Coefficient and P-value of 'length' and 'price':\n",
    "\n",
    "pearson_coef, p_value = stats.pearsonr(df['length'], df['price'])\n",
    "print(\"The Pearson Correlation Coefficient is\", pearson_coef, \" with a P-value of P = \", p_value)  "
   ]
  },
  {
   "cell_type": "markdown",
   "id": "370b909c",
   "metadata": {
    "papermill": {
     "duration": 0.018538,
     "end_time": "2024-01-15T08:29:08.536338",
     "exception": false,
     "start_time": "2024-01-15T08:29:08.517800",
     "status": "completed"
    },
    "tags": []
   },
   "source": [
    "### Conclusion:\n",
    "Since the p-value is < 0.001, the correlation between length and price is statistically significant, and the linear relationship is moderately strong (~0.691)."
   ]
  },
  {
   "cell_type": "code",
   "execution_count": 40,
   "id": "78f272e6",
   "metadata": {
    "execution": {
     "iopub.execute_input": "2024-01-15T08:29:08.576112Z",
     "iopub.status.busy": "2024-01-15T08:29:08.575778Z",
     "iopub.status.idle": "2024-01-15T08:29:08.583964Z",
     "shell.execute_reply": "2024-01-15T08:29:08.581997Z"
    },
    "papermill": {
     "duration": 0.031405,
     "end_time": "2024-01-15T08:29:08.586731",
     "exception": false,
     "start_time": "2024-01-15T08:29:08.555326",
     "status": "completed"
    },
    "tags": []
   },
   "outputs": [
    {
     "name": "stdout",
     "output_type": "stream",
     "text": [
      "The Pearson Correlation Coefficient is 0.7512653440522673  with a P-value of P = 9.20033551048206e-38\n"
     ]
    }
   ],
   "source": [
    "# Calculate the Pearson Correlation Coefficient and P-value of 'width' and 'price':\n",
    "pearson_coef, p_value = stats.pearsonr(df['width'], df['price'])\n",
    "print(\"The Pearson Correlation Coefficient is\", pearson_coef, \" with a P-value of P =\", p_value ) "
   ]
  },
  {
   "cell_type": "markdown",
   "id": "1fa38f22",
   "metadata": {
    "papermill": {
     "duration": 0.019322,
     "end_time": "2024-01-15T08:29:08.626031",
     "exception": false,
     "start_time": "2024-01-15T08:29:08.606709",
     "status": "completed"
    },
    "tags": []
   },
   "source": [
    "### Conclusion:\n",
    "Since the p-value is < 0.001, the correlation between width and price is statistically significant, and the linear relationship is quite strong (~0.751)."
   ]
  },
  {
   "cell_type": "code",
   "execution_count": 41,
   "id": "cb24a33b",
   "metadata": {
    "execution": {
     "iopub.execute_input": "2024-01-15T08:29:08.667278Z",
     "iopub.status.busy": "2024-01-15T08:29:08.666931Z",
     "iopub.status.idle": "2024-01-15T08:29:08.674888Z",
     "shell.execute_reply": "2024-01-15T08:29:08.673572Z"
    },
    "papermill": {
     "duration": 0.031396,
     "end_time": "2024-01-15T08:29:08.677150",
     "exception": false,
     "start_time": "2024-01-15T08:29:08.645754",
     "status": "completed"
    },
    "tags": []
   },
   "outputs": [
    {
     "name": "stdout",
     "output_type": "stream",
     "text": [
      "The Pearson Correlation Coefficient is 0.8344145257702843  with a P-value of P =  2.189577238893965e-53\n"
     ]
    }
   ],
   "source": [
    "# Calculate the Pearson Correlation Coefficient and P-value of 'curb-weight' and 'price':\n",
    "pearson_coef, p_value = stats.pearsonr(df['curb-weight'], df['price'])\n",
    "print( \"The Pearson Correlation Coefficient is\", pearson_coef, \" with a P-value of P = \", p_value)  "
   ]
  },
  {
   "cell_type": "markdown",
   "id": "eed6bad1",
   "metadata": {
    "papermill": {
     "duration": 0.019449,
     "end_time": "2024-01-15T08:29:08.716256",
     "exception": false,
     "start_time": "2024-01-15T08:29:08.696807",
     "status": "completed"
    },
    "tags": []
   },
   "source": [
    "### Conclusion:\n",
    "Since the p-value is < 0.001, the correlation between curb-weight and price is statistically significant, and the linear relationship is quite strong (~0.834)."
   ]
  },
  {
   "cell_type": "code",
   "execution_count": 42,
   "id": "b0fb61a0",
   "metadata": {
    "execution": {
     "iopub.execute_input": "2024-01-15T08:29:08.757727Z",
     "iopub.status.busy": "2024-01-15T08:29:08.757335Z",
     "iopub.status.idle": "2024-01-15T08:29:08.766166Z",
     "shell.execute_reply": "2024-01-15T08:29:08.764225Z"
    },
    "papermill": {
     "duration": 0.032173,
     "end_time": "2024-01-15T08:29:08.768500",
     "exception": false,
     "start_time": "2024-01-15T08:29:08.736327",
     "status": "completed"
    },
    "tags": []
   },
   "outputs": [
    {
     "name": "stdout",
     "output_type": "stream",
     "text": [
      "The Pearson Correlation Coefficient is 0.8723351674455185  with a P-value of P = 9.265491622198793e-64\n"
     ]
    }
   ],
   "source": [
    "# Calculate the Pearson Correlation Coefficient and P-value of 'engine-size' and 'price':\n",
    "pearson_coef, p_value = stats.pearsonr(df['engine-size'], df['price'])\n",
    "print(\"The Pearson Correlation Coefficient is\", pearson_coef, \" with a P-value of P =\", p_value) "
   ]
  },
  {
   "cell_type": "markdown",
   "id": "5b0768f8",
   "metadata": {
    "papermill": {
     "duration": 0.019153,
     "end_time": "2024-01-15T08:29:08.806806",
     "exception": false,
     "start_time": "2024-01-15T08:29:08.787653",
     "status": "completed"
    },
    "tags": []
   },
   "source": [
    "### Conclusion:\n",
    "Since the p-value is < 0.001, the correlation between engine-size and price is statistically significant, and the linear relationship is very strong (~0.872)."
   ]
  },
  {
   "cell_type": "code",
   "execution_count": 43,
   "id": "5b18b454",
   "metadata": {
    "execution": {
     "iopub.execute_input": "2024-01-15T08:29:08.847988Z",
     "iopub.status.busy": "2024-01-15T08:29:08.847550Z",
     "iopub.status.idle": "2024-01-15T08:29:08.855280Z",
     "shell.execute_reply": "2024-01-15T08:29:08.854216Z"
    },
    "papermill": {
     "duration": 0.030512,
     "end_time": "2024-01-15T08:29:08.857047",
     "exception": false,
     "start_time": "2024-01-15T08:29:08.826535",
     "status": "completed"
    },
    "tags": []
   },
   "outputs": [
    {
     "name": "stdout",
     "output_type": "stream",
     "text": [
      "The Pearson Correlation Coefficient is 0.5431553832626602  with a P-value of P =   8.049189483935315e-17\n"
     ]
    }
   ],
   "source": [
    "# Calculate the Pearson Correlation Coefficient and P-value of 'bore' and 'price':\n",
    "pearson_coef, p_value = stats.pearsonr(df['bore'], df['price'])\n",
    "print(\"The Pearson Correlation Coefficient is\", pearson_coef, \" with a P-value of P =  \", p_value )"
   ]
  },
  {
   "cell_type": "markdown",
   "id": "717b2eb7",
   "metadata": {
    "papermill": {
     "duration": 0.019263,
     "end_time": "2024-01-15T08:29:08.896599",
     "exception": false,
     "start_time": "2024-01-15T08:29:08.877336",
     "status": "completed"
    },
    "tags": []
   },
   "source": [
    "### Conclusion:\n",
    "Since the p-value is < 0.001, the correlation between bore and price is statistically significant, but the linear relationship is only moderate (~0.521)."
   ]
  },
  {
   "cell_type": "code",
   "execution_count": 44,
   "id": "6441f59c",
   "metadata": {
    "execution": {
     "iopub.execute_input": "2024-01-15T08:29:08.937528Z",
     "iopub.status.busy": "2024-01-15T08:29:08.937207Z",
     "iopub.status.idle": "2024-01-15T08:29:08.944532Z",
     "shell.execute_reply": "2024-01-15T08:29:08.943631Z"
    },
    "papermill": {
     "duration": 0.030459,
     "end_time": "2024-01-15T08:29:08.946568",
     "exception": false,
     "start_time": "2024-01-15T08:29:08.916109",
     "status": "completed"
    },
    "tags": []
   },
   "outputs": [
    {
     "name": "stdout",
     "output_type": "stream",
     "text": [
      "The Pearson Correlation Coefficient is -0.6865710067844678  with a P-value of P =  2.3211320655675098e-29\n"
     ]
    }
   ],
   "source": [
    "# Calculate the Pearson Correlation Coefficient and P-value of 'city-mpg' and 'price':\n",
    "pearson_coef, p_value = stats.pearsonr(df['city-mpg'], df['price'])\n",
    "print(\"The Pearson Correlation Coefficient is\", pearson_coef, \" with a P-value of P = \", p_value)  "
   ]
  },
  {
   "cell_type": "markdown",
   "id": "3016fef9",
   "metadata": {
    "papermill": {
     "duration": 0.019759,
     "end_time": "2024-01-15T08:29:08.986799",
     "exception": false,
     "start_time": "2024-01-15T08:29:08.967040",
     "status": "completed"
    },
    "tags": []
   },
   "source": [
    "### Conclusion:\n",
    "Since the p-value is < 0.001, the correlation between city-mpg and price is statistically significant, and the coefficient of about -0.687 shows that the relationship is negative and moderately strong."
   ]
  },
  {
   "cell_type": "code",
   "execution_count": 45,
   "id": "917904ed",
   "metadata": {
    "execution": {
     "iopub.execute_input": "2024-01-15T08:29:09.028628Z",
     "iopub.status.busy": "2024-01-15T08:29:09.028261Z",
     "iopub.status.idle": "2024-01-15T08:29:09.035503Z",
     "shell.execute_reply": "2024-01-15T08:29:09.034332Z"
    },
    "papermill": {
     "duration": 0.030482,
     "end_time": "2024-01-15T08:29:09.037413",
     "exception": false,
     "start_time": "2024-01-15T08:29:09.006931",
     "status": "completed"
    },
    "tags": []
   },
   "outputs": [
    {
     "name": "stdout",
     "output_type": "stream",
     "text": [
      "The Pearson Correlation Coefficient is -0.704692265058953  with a P-value of P =  1.749547114447557e-31\n"
     ]
    }
   ],
   "source": [
    "# Calculate the Pearson Correlation Coefficient and P-value of 'highway-mpg' and 'price':\n",
    "pearson_coef, p_value = stats.pearsonr(df['highway-mpg'], df['price'])\n",
    "print( \"The Pearson Correlation Coefficient is\", pearson_coef, \" with a P-value of P = \", p_value )"
   ]
  },
  {
   "cell_type": "markdown",
   "id": "a9917071",
   "metadata": {
    "papermill": {
     "duration": 0.020013,
     "end_time": "2024-01-15T08:29:09.077806",
     "exception": false,
     "start_time": "2024-01-15T08:29:09.057793",
     "status": "completed"
    },
    "tags": []
   },
   "source": [
    "### Conclusion:\n",
    "Since the p-value is < 0.001, the correlation between highway-mpg and price is statistically significant, and the coefficient of about -0.705 shows that the relationship is negative and moderately strong."
   ]
  },
  {
   "cell_type": "markdown",
   "id": "31d98d6a",
   "metadata": {
    "papermill": {
     "duration": 0.020516,
     "end_time": "2024-01-15T08:29:09.118649",
     "exception": false,
     "start_time": "2024-01-15T08:29:09.098133",
     "status": "completed"
    },
    "tags": []
   },
   "source": [
    "# Conclusion:"
   ]
  },
  {
   "cell_type": "markdown",
   "id": "8d7ff85a",
   "metadata": {
    "papermill": {
     "duration": 0.023413,
     "end_time": "2024-01-15T08:29:09.163199",
     "exception": false,
     "start_time": "2024-01-15T08:29:09.139786",
     "status": "completed"
    },
    "tags": []
   },
   "source": [
    "We now have a better idea of what our data looks like and which variables are important to take into account when predicting the car price. We have narrowed it down to the following variables:\n",
    "\n",
    "Continuous numerical variables:\n",
    "'length', 'width', 'curb-weight', 'engine-size', 'horsepower', 'city-mpg', 'highway-mpg', 'wheel-base', 'bore'.\n",
    "\n",
    "Categorical variables: 'drive-wheels'.\n",
    "\n",
    "As we now move into building machine learning models to automate our analysis, feeding the model with variables that meaningfully affect our target variable will improve our model's prediction performance."
   ]
  }
 ],
 "metadata": {
  "kaggle": {
   "accelerator": "none",
   "dataSources": [
    {
     "datasetId": 4302173,
     "sourceId": 7399058,
     "sourceType": "datasetVersion"
    }
   ],
   "dockerImageVersionId": 30635,
   "isGpuEnabled": false,
   "isInternetEnabled": true,
   "language": "python",
   "sourceType": "notebook"
  },
  "kernelspec": {
   "display_name": "Python 3",
   "language": "python",
   "name": "python3"
  },
  "language_info": {
   "codemirror_mode": {
    "name": "ipython",
    "version": 3
   },
   "file_extension": ".py",
   "mimetype": "text/x-python",
   "name": "python",
   "nbconvert_exporter": "python",
   "pygments_lexer": "ipython3",
   "version": "3.10.12"
  },
  "papermill": {
   "default_parameters": {},
   "duration": 10.31645,
   "end_time": "2024-01-15T08:29:09.808410",
   "environment_variables": {},
   "exception": null,
   "input_path": "__notebook__.ipynb",
   "output_path": "__notebook__.ipynb",
   "parameters": {},
   "start_time": "2024-01-15T08:28:59.491960",
   "version": "2.4.0"
  }
 },
 "nbformat": 4,
 "nbformat_minor": 5
}
